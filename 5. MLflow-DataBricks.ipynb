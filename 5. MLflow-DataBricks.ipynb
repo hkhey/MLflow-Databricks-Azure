{
 "cells": [
  {
   "cell_type": "code",
   "execution_count": null,
   "metadata": {
    "application/vnd.databricks.v1+cell": {
     "cellMetadata": {
      "byteLimit": 2048000,
      "rowLimit": 10000
     },
     "inputWidgets": {},
     "nuid": "de1ec7e9-9611-4c91-aabf-89e834060e94",
     "showTitle": false,
     "title": ""
    }
   },
   "outputs": [
    {
     "name": "stdout",
     "output_type": "stream",
     "text": [
      "Python interpreter will be restarted.\n",
      "Collecting spark\n",
      "  Downloading spark-0.2.1.tar.gz (41 kB)\n",
      "Building wheels for collected packages: spark\n",
      "  Building wheel for spark (setup.py): started\n",
      "  Building wheel for spark (setup.py): finished with status 'done'\n",
      "  Created wheel for spark: filename=spark-0.2.1-py3-none-any.whl size=58763 sha256=05f1b5c64b33e762bf475d3a8811b3743e6c7c15b6c57379ba87af64e7a72d1b\n",
      "  Stored in directory: /root/.cache/pip/wheels/bc/0f/6c/b41528ca0fd4d46513185e90da91bc1c484bba6138641c5a62\n",
      "Successfully built spark\n",
      "Installing collected packages: spark\n",
      "Successfully installed spark-0.2.1\n",
      "Python interpreter will be restarted.\n"
     ]
    }
   ],
   "source": [
    "pip install spark"
   ]
  },
  {
   "cell_type": "code",
   "execution_count": null,
   "metadata": {
    "application/vnd.databricks.v1+cell": {
     "cellMetadata": {
      "byteLimit": 2048000,
      "rowLimit": 10000
     },
     "inputWidgets": {},
     "nuid": "62d700a4-8c6b-4824-ad97-bc3483fb16a7",
     "showTitle": false,
     "title": ""
    }
   },
   "outputs": [
    {
     "name": "stdout",
     "output_type": "stream",
     "text": [
      "Python interpreter will be restarted.\n",
      "Collecting mlflow\n",
      "  Downloading mlflow-2.9.2-py3-none-any.whl (19.1 MB)\n",
      "Requirement already satisfied: pyarrow<15,>=4.0.0 in /databricks/python3/lib/python3.9/site-packages (from mlflow) (7.0.0)\n",
      "Collecting docker<7,>=4.0.0\n",
      "  Downloading docker-6.1.3-py3-none-any.whl (148 kB)\n",
      "Requirement already satisfied: pytz<2024 in /databricks/python3/lib/python3.9/site-packages (from mlflow) (2021.3)\n",
      "Collecting pyyaml<7,>=5.1\n",
      "  Downloading PyYAML-6.0.1-cp39-cp39-manylinux_2_17_x86_64.manylinux2014_x86_64.whl (738 kB)\n",
      "Collecting cloudpickle<4\n",
      "  Downloading cloudpickle-3.0.0-py3-none-any.whl (20 kB)\n",
      "Collecting gitpython<4,>=2.1.0\n",
      "  Downloading GitPython-3.1.40-py3-none-any.whl (190 kB)\n",
      "Requirement already satisfied: protobuf<5,>=3.12.0 in /databricks/python3/lib/python3.9/site-packages (from mlflow) (3.19.4)\n",
      "Requirement already satisfied: requests<3,>=2.17.3 in /databricks/python3/lib/python3.9/site-packages (from mlflow) (2.27.1)\n",
      "Requirement already satisfied: numpy<2 in /databricks/python3/lib/python3.9/site-packages (from mlflow) (1.21.5)\n",
      "Collecting alembic!=1.10.0,<2\n",
      "  Downloading alembic-1.13.1-py3-none-any.whl (233 kB)\n",
      "Requirement already satisfied: Jinja2<4,>=2.11 in /databricks/python3/lib/python3.9/site-packages (from mlflow) (2.11.3)\n",
      "Requirement already satisfied: scipy<2 in /databricks/python3/lib/python3.9/site-packages (from mlflow) (1.7.3)\n",
      "Requirement already satisfied: matplotlib<4 in /databricks/python3/lib/python3.9/site-packages (from mlflow) (3.5.1)\n",
      "Requirement already satisfied: scikit-learn<2 in /databricks/python3/lib/python3.9/site-packages (from mlflow) (1.0.2)\n",
      "Collecting importlib-metadata!=4.7.0,<8,>=3.7.0\n",
      "  Downloading importlib_metadata-7.0.1-py3-none-any.whl (23 kB)\n",
      "Requirement already satisfied: entrypoints<1 in /databricks/python3/lib/python3.9/site-packages (from mlflow) (0.4)\n",
      "Collecting markdown<4,>=3.3\n",
      "  Downloading Markdown-3.5.1-py3-none-any.whl (102 kB)\n",
      "Requirement already satisfied: pandas<3 in /databricks/python3/lib/python3.9/site-packages (from mlflow) (1.4.2)\n",
      "Collecting querystring-parser<2\n",
      "  Downloading querystring_parser-1.2.4-py2.py3-none-any.whl (7.9 kB)\n",
      "Collecting gunicorn<22\n",
      "  Downloading gunicorn-21.2.0-py3-none-any.whl (80 kB)\n",
      "Collecting Flask<4\n",
      "  Downloading flask-3.0.0-py3-none-any.whl (99 kB)\n",
      "Collecting sqlalchemy<3,>=1.4.0\n",
      "  Downloading SQLAlchemy-2.0.25-cp39-cp39-manylinux_2_17_x86_64.manylinux2014_x86_64.whl (3.1 MB)\n",
      "Requirement already satisfied: packaging<24 in /databricks/python3/lib/python3.9/site-packages (from mlflow) (21.3)\n",
      "Collecting sqlparse<1,>=0.4.0\n",
      "  Downloading sqlparse-0.4.4-py3-none-any.whl (41 kB)\n",
      "Collecting databricks-cli<1,>=0.8.7\n",
      "  Downloading databricks_cli-0.18.0-py2.py3-none-any.whl (150 kB)\n",
      "Requirement already satisfied: click<9,>=7.0 in /databricks/python3/lib/python3.9/site-packages (from mlflow) (8.0.4)\n",
      "Collecting Mako\n",
      "  Downloading Mako-1.3.0-py3-none-any.whl (78 kB)\n",
      "Requirement already satisfied: typing-extensions>=4 in /databricks/python3/lib/python3.9/site-packages (from alembic!=1.10.0,<2->mlflow) (4.1.1)\n",
      "Requirement already satisfied: urllib3<3,>=1.26.7 in /databricks/python3/lib/python3.9/site-packages (from databricks-cli<1,>=0.8.7->mlflow) (1.26.9)\n",
      "Collecting tabulate>=0.7.7\n",
      "  Downloading tabulate-0.9.0-py3-none-any.whl (35 kB)\n",
      "Requirement already satisfied: six>=1.10.0 in /databricks/python3/lib/python3.9/site-packages (from databricks-cli<1,>=0.8.7->mlflow) (1.16.0)\n",
      "Collecting oauthlib>=3.1.0\n",
      "  Downloading oauthlib-3.2.2-py3-none-any.whl (151 kB)\n",
      "Collecting pyjwt>=1.7.0\n",
      "  Downloading PyJWT-2.8.0-py3-none-any.whl (22 kB)\n",
      "Collecting websocket-client>=0.32.0\n",
      "  Downloading websocket_client-1.7.0-py3-none-any.whl (58 kB)\n",
      "Collecting Werkzeug>=3.0.0\n",
      "  Downloading werkzeug-3.0.1-py3-none-any.whl (226 kB)\n",
      "Collecting click<9,>=7.0\n",
      "  Downloading click-8.1.7-py3-none-any.whl (97 kB)\n",
      "Collecting blinker>=1.6.2\n",
      "  Downloading blinker-1.7.0-py3-none-any.whl (13 kB)\n",
      "Collecting Jinja2<4,>=2.11\n",
      "  Downloading Jinja2-3.1.2-py3-none-any.whl (133 kB)\n",
      "Collecting itsdangerous>=2.1.2\n",
      "  Downloading itsdangerous-2.1.2-py3-none-any.whl (15 kB)\n",
      "Collecting gitdb<5,>=4.0.1\n",
      "  Downloading gitdb-4.0.11-py3-none-any.whl (62 kB)\n",
      "Collecting smmap<6,>=3.0.1\n",
      "  Downloading smmap-5.0.1-py3-none-any.whl (24 kB)\n",
      "Collecting zipp>=0.5\n",
      "  Using cached zipp-3.17.0-py3-none-any.whl (7.4 kB)\n",
      "Requirement already satisfied: MarkupSafe>=2.0 in /databricks/python3/lib/python3.9/site-packages (from Jinja2<4,>=2.11->mlflow) (2.0.1)\n",
      "Requirement already satisfied: python-dateutil>=2.7 in /databricks/python3/lib/python3.9/site-packages (from matplotlib<4->mlflow) (2.8.2)\n",
      "Requirement already satisfied: fonttools>=4.22.0 in /databricks/python3/lib/python3.9/site-packages (from matplotlib<4->mlflow) (4.25.0)\n",
      "Requirement already satisfied: kiwisolver>=1.0.1 in /databricks/python3/lib/python3.9/site-packages (from matplotlib<4->mlflow) (1.3.2)\n",
      "Requirement already satisfied: pyparsing>=2.2.1 in /databricks/python3/lib/python3.9/site-packages (from matplotlib<4->mlflow) (3.0.4)\n",
      "Requirement already satisfied: cycler>=0.10 in /databricks/python3/lib/python3.9/site-packages (from matplotlib<4->mlflow) (0.11.0)\n",
      "Requirement already satisfied: pillow>=6.2.0 in /databricks/python3/lib/python3.9/site-packages (from matplotlib<4->mlflow) (9.0.1)\n",
      "Requirement already satisfied: idna<4,>=2.5 in /databricks/python3/lib/python3.9/site-packages (from requests<3,>=2.17.3->mlflow) (3.3)\n",
      "Requirement already satisfied: charset-normalizer~=2.0.0 in /databricks/python3/lib/python3.9/site-packages (from requests<3,>=2.17.3->mlflow) (2.0.4)\n",
      "Requirement already satisfied: certifi>=2017.4.17 in /databricks/python3/lib/python3.9/site-packages (from requests<3,>=2.17.3->mlflow) (2021.10.8)\n",
      "Requirement already satisfied: threadpoolctl>=2.0.0 in /databricks/python3/lib/python3.9/site-packages (from scikit-learn<2->mlflow) (2.2.0)\n",
      "Requirement already satisfied: joblib>=0.11 in /databricks/python3/lib/python3.9/site-packages (from scikit-learn<2->mlflow) (1.1.1)\n",
      "Collecting greenlet!=0.4.17\n",
      "  Downloading greenlet-3.0.3-cp39-cp39-manylinux_2_24_x86_64.manylinux_2_28_x86_64.whl (614 kB)\n",
      "Collecting typing-extensions>=4\n",
      "  Downloading typing_extensions-4.9.0-py3-none-any.whl (32 kB)\n",
      "Collecting MarkupSafe>=2.0\n",
      "  Downloading MarkupSafe-2.1.3-cp39-cp39-manylinux_2_17_x86_64.manylinux2014_x86_64.whl (25 kB)\n",
      "Installing collected packages: zipp, typing-extensions, smmap, MarkupSafe, greenlet, Werkzeug, websocket-client, tabulate, sqlalchemy, pyjwt, oauthlib, Mako, Jinja2, itsdangerous, importlib-metadata, gitdb, click, blinker, sqlparse, querystring-parser, pyyaml, markdown, gunicorn, gitpython, Flask, docker, databricks-cli, cloudpickle, alembic, mlflow\n",
      "  Attempting uninstall: typing-extensions\n",
      "    Found existing installation: typing-extensions 4.1.1\n",
      "    Not uninstalling typing-extensions at /databricks/python3/lib/python3.9/site-packages, outside environment /local_disk0/.ephemeral_nfs/envs/pythonEnv-3fe4caa4-3d92-465e-bd87-7b385ad3c521\n",
      "    Can't uninstall 'typing-extensions'. No files were found to uninstall.\n",
      "  Attempting uninstall: MarkupSafe\n",
      "    Found existing installation: MarkupSafe 2.0.1\n",
      "    Not uninstalling markupsafe at /databricks/python3/lib/python3.9/site-packages, outside environment /local_disk0/.ephemeral_nfs/envs/pythonEnv-3fe4caa4-3d92-465e-bd87-7b385ad3c521\n",
      "    Can't uninstall 'MarkupSafe'. No files were found to uninstall.\n",
      "  Attempting uninstall: Jinja2\n",
      "    Found existing installation: Jinja2 2.11.3\n",
      "    Not uninstalling jinja2 at /databricks/python3/lib/python3.9/site-packages, outside environment /local_disk0/.ephemeral_nfs/envs/pythonEnv-3fe4caa4-3d92-465e-bd87-7b385ad3c521\n",
      "    Can't uninstall 'Jinja2'. No files were found to uninstall.\n",
      "  Attempting uninstall: click\n",
      "    Found existing installation: click 8.0.4\n",
      "    Not uninstalling click at /databricks/python3/lib/python3.9/site-packages, outside environment /local_disk0/.ephemeral_nfs/envs/pythonEnv-3fe4caa4-3d92-465e-bd87-7b385ad3c521\n",
      "    Can't uninstall 'click'. No files were found to uninstall.\n",
      "Successfully installed Flask-3.0.0 Jinja2-3.1.2 Mako-1.3.0 MarkupSafe-2.1.3 Werkzeug-3.0.1 alembic-1.13.1 blinker-1.7.0 click-8.1.7 cloudpickle-3.0.0 databricks-cli-0.18.0 docker-6.1.3 gitdb-4.0.11 gitpython-3.1.40 greenlet-3.0.3 gunicorn-21.2.0 importlib-metadata-7.0.1 itsdangerous-2.1.2 markdown-3.5.1 mlflow-2.9.2 oauthlib-3.2.2 pyjwt-2.8.0 pyyaml-6.0.1 querystring-parser-1.2.4 smmap-5.0.1 sqlalchemy-2.0.25 sqlparse-0.4.4 tabulate-0.9.0 typing-extensions-4.9.0 websocket-client-1.7.0 zipp-3.17.0\n",
      "Python interpreter will be restarted.\n"
     ]
    }
   ],
   "source": [
    "pip install mlflow"
   ]
  },
  {
   "cell_type": "code",
   "execution_count": null,
   "metadata": {
    "application/vnd.databricks.v1+cell": {
     "cellMetadata": {
      "byteLimit": 2048000,
      "rowLimit": 10000
     },
     "inputWidgets": {},
     "nuid": "1c8406a0-1fb6-42df-a70f-5c73ac25c34c",
     "showTitle": false,
     "title": ""
    }
   },
   "outputs": [
    {
     "data": {
      "application/vnd.databricks.v1+bamboolib_hint": "{\"pd.DataFrames\": [], \"version\": \"0.0.1\"}",
      "text/plain": []
     },
     "metadata": {},
     "output_type": "display_data"
    }
   ],
   "source": [
    "import numpy as np\n",
    "import pandas as pd\n",
    "import matplotlib #\n",
    "import matplotlib.pyplot as plt\n",
    "import seaborn as sns\n",
    "import sklearn #\n",
    "import spark\n",
    "from sklearn.linear_model import LogisticRegression\n",
    "from sklearn.model_selection import train_test_split\n",
    "from sklearn.preprocessing import StandardScaler\n",
    "from sklearn.metrics import roc_auc_score,plot_roc_curve, confusion_matrix\n",
    "from sklearn.model_selection import KFold\n",
    "import mlflow"
   ]
  },
  {
   "cell_type": "code",
   "execution_count": null,
   "metadata": {
    "application/vnd.databricks.v1+cell": {
     "cellMetadata": {
      "byteLimit": 2048000,
      "rowLimit": 10000
     },
     "inputWidgets": {},
     "nuid": "62a6a55c-b0d2-40fd-917b-0eeb2de690d8",
     "showTitle": false,
     "title": ""
    }
   },
   "outputs": [
    {
     "name": "stdout",
     "output_type": "stream",
     "text": [
      "+----+------------------+-------------------+------------------+-------------------+-------------------+-------------------+--------------------+-------------------+------------------+-------------------+------------------+------------------+-------------------+-------------------+-------------------+-------------------+--------------------+-------------------+-------------------+-------------------+--------------------+-------------------+-------------------+-------------------+-------------------+-------------------+--------------------+-------------------+------+-----+\n",
      "|Time|                V1|                 V2|                V3|                 V4|                 V5|                 V6|                  V7|                 V8|                V9|                V10|               V11|               V12|                V13|                V14|                V15|                V16|                 V17|                V18|                V19|                V20|                 V21|                V22|                V23|                V24|                V25|                V26|                 V27|                V28|Amount|Class|\n",
      "+----+------------------+-------------------+------------------+-------------------+-------------------+-------------------+--------------------+-------------------+------------------+-------------------+------------------+------------------+-------------------+-------------------+-------------------+-------------------+--------------------+-------------------+-------------------+-------------------+--------------------+-------------------+-------------------+-------------------+-------------------+-------------------+--------------------+-------------------+------+-----+\n",
      "| 0.0|  -1.3598071336738|-0.0727811733098497|  2.53634673796914|   1.37815522427443| -0.338320769942518|  0.462387777762292|   0.239598554061257| 0.0986979012610507| 0.363786969611213| 0.0907941719789316|-0.551599533260813|-0.617800855762348| -0.991389847235408| -0.311169353699879|   1.46817697209427| -0.470400525259478|   0.207971241929242| 0.0257905801985591|  0.403992960255733|  0.251412098239705|  -0.018306777944153|  0.277837575558899| -0.110473910188767| 0.0669280749146731|  0.128539358273528| -0.189114843888824|   0.133558376740387|-0.0210530534538215|149.62|    0|\n",
      "| 0.0|  1.19185711131486|   0.26615071205963|  0.16648011335321|  0.448154078460911| 0.0600176492822243|-0.0823608088155687| -0.0788029833323113| 0.0851016549148104|-0.255425128109186| -0.166974414004614|  1.61272666105479|  1.06523531137287|   0.48909501589608| -0.143772296441519|  0.635558093258208|  0.463917041022171|  -0.114804663102346| -0.183361270123994| -0.145783041325259|-0.0690831352230203|  -0.225775248033138| -0.638671952771851|  0.101288021253234| -0.339846475529127|  0.167170404418143|  0.125894532368176|-0.00898309914322813| 0.0147241691924927|  2.69|    0|\n",
      "| 1.0| -1.35835406159823|  -1.34016307473609|  1.77320934263119|  0.379779593034328| -0.503198133318193|   1.80049938079263|   0.791460956450422|  0.247675786588991| -1.51465432260583|  0.207642865216696| 0.624501459424895| 0.066083685268831|  0.717292731410831| -0.165945922763554|   2.34586494901581|  -2.89008319444231|    1.10996937869599| -0.121359313195888|  -2.26185709530414|  0.524979725224404|   0.247998153469754|  0.771679401917229|  0.909412262347719| -0.689280956490685| -0.327641833735251| -0.139096571514147| -0.0553527940384261|-0.0597518405929204|378.66|    0|\n",
      "| 1.0|-0.966271711572087| -0.185226008082898|  1.79299333957872| -0.863291275036453|-0.0103088796030823|   1.24720316752486|    0.23760893977178|  0.377435874652262| -1.38702406270197|-0.0549519224713749|-0.226487263835401| 0.178228225877303|  0.507756869957169|  -0.28792374549456| -0.631418117709045|   -1.0596472454325|  -0.684092786345479|   1.96577500349538|   -1.2326219700892| -0.208037781160366|  -0.108300452035545|0.00527359678253453| -0.190320518742841|  -1.17557533186321|  0.647376034602038| -0.221928844458407|  0.0627228487293033| 0.0614576285006353| 123.5|    0|\n",
      "| 2.0| -1.15823309349523|  0.877736754848451|    1.548717846511|  0.403033933955121| -0.407193377311653| 0.0959214624684256|   0.592940745385545| -0.270532677192282| 0.817739308235294|  0.753074431976354|-0.822842877946363|  0.53819555014995|    1.3458515932154|  -1.11966983471731|  0.175121130008994| -0.451449182813529|  -0.237033239362776|-0.0381947870352842|  0.803486924960175|  0.408542360392758|-0.00943069713232919|   0.79827849458971| -0.137458079619063|  0.141266983824769| -0.206009587619756|  0.502292224181569|   0.219422229513348|  0.215153147499206| 69.99|    0|\n",
      "| 2.0|-0.425965884412454|  0.960523044882985|  1.14110934232219| -0.168252079760302|   0.42098688077219|-0.0297275516639742|   0.476200948720027|  0.260314333074874| -0.56867137571251| -0.371407196834471|  1.34126198001957| 0.359893837038039| -0.358090652573631| -0.137133700217612|  0.517616806555742|  0.401725895589603| -0.0581328233640131| 0.0686531494425432|-0.0331937877876282| 0.0849676720682049|  -0.208253514656728| -0.559824796253248|-0.0263976679795373| -0.371426583174346| -0.232793816737034|  0.105914779097957|   0.253844224739337| 0.0810802569229443|  3.67|    0|\n",
      "| 4.0|  1.22965763450793|  0.141003507049326|0.0453707735899449|   1.20261273673594|  0.191880988597645|  0.272708122899098|-0.00515900288250983| 0.0812129398830894| 0.464959994783886|-0.0992543211289237| -1.41690724314928|-0.153825826253651|  -0.75106271556262|   0.16737196252175| 0.0501435942254188| -0.443586797916727| 0.00282051247234708|  -0.61198733994012|-0.0455750446637976|  -0.21963255278686|  -0.167716265815783| -0.270709726172363| -0.154103786809305| -0.780055415004671|   0.75013693580659| -0.257236845917139|  0.0345074297438413|0.00516776890624916|  4.99|    0|\n",
      "| 7.0|-0.644269442348146|   1.41796354547385|   1.0743803763556| -0.492199018495015|  0.948934094764157|  0.428118462833089|    1.12063135838353|  -3.80786423873589| 0.615374730667027|   1.24937617815176|-0.619467796121913| 0.291474353088705|   1.75796421396042|  -1.32386521970526|  0.686132504394383|-0.0761269994382006|    -1.2221273453247| -0.358221569869078|  0.324504731321494| -0.156741852488285|    1.94346533978412|  -1.01545470979971|  0.057503529867291| -0.649709005559993| -0.415266566234811|-0.0516342969262494|   -1.20692108094258|  -1.08533918832377|  40.8|    0|\n",
      "| 7.0| -0.89428608220282|  0.286157196276544|-0.113192212729871| -0.271526130088604|    2.6695986595986|   3.72181806112751|   0.370145127676916|  0.851084443200905|-0.392047586798604| -0.410430432848439|-0.705116586646536|-0.110452261733098| -0.286253632470583| 0.0743553603016731| -0.328783050303565| -0.210077268148783|  -0.499767968800267|  0.118764861004217|   0.57032816746536| 0.0527356691149697| -0.0734251001059225| -0.268091632235551| -0.204232669947878|    1.0115918018785|  0.373204680146282| -0.384157307702294|  0.0117473564581996|   0.14240432992147|  93.2|    0|\n",
      "| 9.0| -0.33826175242575|   1.11959337641566|  1.04436655157316| -0.222187276738296|   0.49936080649727|  -0.24676110061991|   0.651583206489972| 0.0695385865186387|-0.736727316364109| -0.366845639206541|  1.01761446783262| 0.836389570307029|   1.00684351373408| -0.443522816876142|  0.150219101422635|  0.739452777052119|  -0.540979921943059|   0.47667726004282|  0.451772964394125|  0.203711454727929|  -0.246913936910008| -0.633752642406113|  -0.12079408408185| -0.385049925313426|-0.0697330460416923| 0.0941988339514961|   0.246219304619926| 0.0830756493473326|  3.68|    0|\n",
      "|10.0|  1.44904378114715|  -1.17633882535966| 0.913859832832795|  -1.37566665499943|  -1.97138316545323|  -0.62915213889734|    -1.4232356010359| 0.0484558879088564| -1.72040839292037|   1.62665905834133|   1.1996439495421|-0.671439778462005| -0.513947152539479|-0.0950450453999549|  0.230930409124119| 0.0319674667862076|   0.253414715863197|  0.854343814324194| -0.221365413645481| -0.387226474431156|-0.00930189652490052|  0.313894410791098| 0.0277401580170247|  0.500512287104917|   0.25136735874921| -0.129477953726618|  0.0428498709381461| 0.0162532619375515|   7.8|    0|\n",
      "|10.0|  0.38497821518095|  0.616109459176472|-0.874299702595052|-0.0940186259679115|   2.92458437838817|   3.31702716826156|   0.470454671805879|   0.53824722837695|-0.558894612428441|   0.30975539423728|-0.259115563735702|-0.326143233995877|-0.0900467227020648|  0.362832368569793|  0.928903660629178| -0.129486811402759|  -0.809978925963589|  0.359985390219981|   0.70766382644648|   0.12599157561542|   0.049923685888971|  0.238421512225103|0.00912986861262866|  0.996710209581086| -0.767314827174801| -0.492208295340017|   0.042472441919027|-0.0543373883732122|  9.99|    0|\n",
      "|10.0|    1.249998742053|  -1.22163680921816| 0.383930151282291|  -1.23489868766892|  -1.48541947377961| -0.753230164566149|  -0.689404975426345| -0.227487227519552| -2.09401057344842|   1.32372927445937| 0.227666231237246|-0.242681998944186|   1.20541680770748| -0.317630527025074|  0.725674990179153| -0.815612186027305|   0.873936447614439| -0.847788598847099| -0.683192626267037| -0.102755941505071|  -0.231809239223849| -0.483285330117712| 0.0846676908596583|  0.392830885335013|  0.161134553588505| -0.354990039673962|  0.0264155490776107| 0.0424220887282304| 121.5|    0|\n",
      "|11.0|   1.0693735878819|  0.287722129331455| 0.828612726634281|   2.71252042961718| -0.178398016248009|  0.337543730282968| -0.0967168617395962|  0.115981735546597|-0.221082566236194|  0.460230444301678|-0.773656930526689|  0.32338724546722|-0.0110758870883779| -0.178485175177916|  -0.65556427824926|  -0.19992517131173|     0.1240054151819| -0.980496201537345| -0.982916082135047| -0.153197231044512| -0.0368755317335273| 0.0744124028162195|-0.0714074332998586|  0.104743752596029|  0.548264725394119|  0.104094153162781|  0.0214910583643189|  0.021293311477486|  27.5|    0|\n",
      "|12.0|  -2.7918547659339| -0.327770756658658|  1.64175016056605|   1.76747274389883| -0.136588446465306|   0.80759646826532|  -0.422911389711497|  -1.90710747624096| 0.755712908314791|    1.1510869876677| 0.844555470974377|   0.7929439518176|  0.370448092803246| -0.734975105820311|  0.406795710431001| -0.303057623825763|  -0.155868714793874|  0.778265457041536|   2.22186801373788|  -1.58212204356551|    1.15166304848789|  0.222181966098225|   1.02058620426601| 0.0283166513238872| -0.232746324289105|  -0.23555721754117|   -0.16477751177654|-0.0301536365592253|  58.8|    0|\n",
      "|12.0|-0.752417042956605|  0.345485415344747|  2.05732291276727|  -1.46864329840046|   -1.1583936804082|-0.0778498291166733|  -0.608581418236123|0.00360348436201849|-0.436166983515744|  0.747730827192802|-0.793980602837221|-0.770406728847129|   1.04762699748088|  -1.06660368148653|   1.10695345662141|   1.66011355713381|  -0.279265373246772| -0.419994141181313|  0.432535348618175|  0.263450864446125|   0.499624954671111|   1.35365048557231| -0.256573280448308|-0.0650837078816517|-0.0391243535426488|-0.0870864732146962|  -0.180997500092721|  0.129394059390202| 15.99|    0|\n",
      "|12.0|  1.10321543528383|-0.0402962145973447|   1.2673320885949|   1.28909146962552| -0.735997163604068|  0.288069162976262|  -0.586056786337461|  0.189379713679593| 0.782332891785191| -0.267975066537173|-0.450311279515466| 0.936707714991982|  0.708380406186981| -0.468647287707221|  0.354574063407955| -0.246634655717582|-0.00921237772707382| -0.595912405700819|  -0.57568162226261| -0.113910176982092| -0.0246120063374677|  0.196001952806192| 0.0138016541409422|  0.103758331023198|  0.364297540595235| -0.382260574113217|   0.092809187460487| 0.0370505169810008| 12.99|    0|\n",
      "|13.0|-0.436905071360625|  0.918966212909322|  0.92459077438817| -0.727219053596792|  0.915678718106307| -0.127867352079254|   0.707641607333935| 0.0879623554672504| -0.66527135413364| -0.737979823596458|  0.32409781346169| 0.277192107214981|  0.252624256310781| -0.291896460370468| -0.184520169327133|   1.14317370716197|   -0.92870926272403|  0.680469592634687| 0.0254364616880793|-0.0470212823165035|  -0.194795823794671| -0.672637997017793| -0.156857514491897| -0.888386320943716| -0.342413218776576| -0.049026728633951|  0.0796923991551505|  0.131023789452311|  0.89|    0|\n",
      "|14.0| -5.40125766315825|  -5.45014783420644|  1.18630463143652|   1.73623880012095|   3.04910587764025|  -1.76340557365201|   -1.55973769907953|  0.160841747266769|  1.23308974041888|  0.345172827050629| 0.917229867699146| 0.970116716069048| -0.266567764915222| -0.479129929276704| -0.526608502569153|   0.47200411177674|  -0.725480944982201|  0.075081351540202| -0.406866573198217|  -2.19684802485647|  -0.503600328973703|  0.984459785590244|   2.45858857639219| 0.0421188969891572| -0.481630823956716| -0.621272013713977|   0.392053289557744|  0.949594245504846|  46.8|    0|\n",
      "|15.0|   1.4929359769862|  -1.02934573189487|  0.45479473374366|  -1.43802587991702|  -1.55543410136344| -0.720961147043557|   -1.08066413038614|-0.0531271179483221|  -1.9786815953872|   1.63807603690446|  1.07754241162743| -0.63204651464934|  -0.41695716661602| 0.0520105153724404|-0.0429789228232019| -0.166432496451972|   0.304241418614353|  0.554432499062278| 0.0542295152184719| -0.387910172646258|  -0.177649846438814| -0.175073809074822| 0.0400022190621329|  0.295813862676508|   0.33293059939425| -0.220384850672322|  0.0222984359135846|0.00760225559997897|   5.0|    0|\n",
      "+----+------------------+-------------------+------------------+-------------------+-------------------+-------------------+--------------------+-------------------+------------------+-------------------+------------------+------------------+-------------------+-------------------+-------------------+-------------------+--------------------+-------------------+-------------------+-------------------+--------------------+-------------------+-------------------+-------------------+-------------------+-------------------+--------------------+-------------------+------+-----+\n",
      "only showing top 20 rows\n",
      "\n"
     ]
    }
   ],
   "source": [
    "from pyspark.sql import SparkSession\n",
    "\n",
    "# Create a Spark session\n",
    "spark = SparkSession.builder.appName(\"AppHiba\").getOrCreate()\n",
    "\n",
    "# File location and type\n",
    "file_location = \"/FileStore/tables/creditcard.csv\"\n",
    "file_type = \"csv\"\n",
    "\n",
    "# CSV options\n",
    "infer_schema = \"true\"\n",
    "first_row_is_header = \"true\"\n",
    "delimiter = \",\"\n",
    "\n",
    "# Read CSV file into Spark DataFrame\n",
    "dataframe = spark.read.format(file_type) \\\n",
    "    .option(\"inferSchema\", infer_schema) \\\n",
    "    .option(\"header\", first_row_is_header) \\\n",
    "    .option(\"sep\", delimiter) \\\n",
    "    .load(file_location)\n",
    "\n",
    "# Show the first few rows of the Spark DataFrame\n",
    "dataframe.show()\n",
    "\n",
    "# Convert Spark DataFrame to Pandas DataFrame\n",
    "df = dataframe.toPandas()\n"
   ]
  },
  {
   "cell_type": "code",
   "execution_count": null,
   "metadata": {
    "application/vnd.databricks.v1+cell": {
     "cellMetadata": {
      "byteLimit": 2048000,
      "rowLimit": 10000
     },
     "inputWidgets": {},
     "nuid": "b4001e91-5c97-41e4-acd0-f2c457cfe183",
     "showTitle": false,
     "title": ""
    }
   },
   "outputs": [
    {
     "data": {
      "text/html": [
       "<div>\n",
       "<style scoped>\n",
       "    .dataframe tbody tr th:only-of-type {\n",
       "        vertical-align: middle;\n",
       "    }\n",
       "\n",
       "    .dataframe tbody tr th {\n",
       "        vertical-align: top;\n",
       "    }\n",
       "\n",
       "    .dataframe thead th {\n",
       "        text-align: right;\n",
       "    }\n",
       "</style>\n",
       "<table border=\"1\" class=\"dataframe\">\n",
       "  <thead>\n",
       "    <tr style=\"text-align: right;\">\n",
       "      <th></th>\n",
       "      <th>V1</th>\n",
       "      <th>V2</th>\n",
       "      <th>V3</th>\n",
       "      <th>V4</th>\n",
       "      <th>V5</th>\n",
       "      <th>V6</th>\n",
       "      <th>V7</th>\n",
       "      <th>V8</th>\n",
       "      <th>V9</th>\n",
       "      <th>V10</th>\n",
       "      <th>...</th>\n",
       "      <th>V21</th>\n",
       "      <th>V22</th>\n",
       "      <th>V23</th>\n",
       "      <th>V24</th>\n",
       "      <th>V25</th>\n",
       "      <th>V26</th>\n",
       "      <th>V27</th>\n",
       "      <th>V28</th>\n",
       "      <th>Amount</th>\n",
       "      <th>Class</th>\n",
       "    </tr>\n",
       "  </thead>\n",
       "  <tbody>\n",
       "    <tr>\n",
       "      <th>0</th>\n",
       "      <td>-1.359807</td>\n",
       "      <td>-0.072781</td>\n",
       "      <td>2.536347</td>\n",
       "      <td>1.378155</td>\n",
       "      <td>-0.338321</td>\n",
       "      <td>0.462388</td>\n",
       "      <td>0.239599</td>\n",
       "      <td>0.098698</td>\n",
       "      <td>0.363787</td>\n",
       "      <td>0.090794</td>\n",
       "      <td>...</td>\n",
       "      <td>-0.018307</td>\n",
       "      <td>0.277838</td>\n",
       "      <td>-0.110474</td>\n",
       "      <td>0.066928</td>\n",
       "      <td>0.128539</td>\n",
       "      <td>-0.189115</td>\n",
       "      <td>0.133558</td>\n",
       "      <td>-0.021053</td>\n",
       "      <td>149.62</td>\n",
       "      <td>0</td>\n",
       "    </tr>\n",
       "    <tr>\n",
       "      <th>1</th>\n",
       "      <td>1.191857</td>\n",
       "      <td>0.266151</td>\n",
       "      <td>0.166480</td>\n",
       "      <td>0.448154</td>\n",
       "      <td>0.060018</td>\n",
       "      <td>-0.082361</td>\n",
       "      <td>-0.078803</td>\n",
       "      <td>0.085102</td>\n",
       "      <td>-0.255425</td>\n",
       "      <td>-0.166974</td>\n",
       "      <td>...</td>\n",
       "      <td>-0.225775</td>\n",
       "      <td>-0.638672</td>\n",
       "      <td>0.101288</td>\n",
       "      <td>-0.339846</td>\n",
       "      <td>0.167170</td>\n",
       "      <td>0.125895</td>\n",
       "      <td>-0.008983</td>\n",
       "      <td>0.014724</td>\n",
       "      <td>2.69</td>\n",
       "      <td>0</td>\n",
       "    </tr>\n",
       "    <tr>\n",
       "      <th>2</th>\n",
       "      <td>-1.358354</td>\n",
       "      <td>-1.340163</td>\n",
       "      <td>1.773209</td>\n",
       "      <td>0.379780</td>\n",
       "      <td>-0.503198</td>\n",
       "      <td>1.800499</td>\n",
       "      <td>0.791461</td>\n",
       "      <td>0.247676</td>\n",
       "      <td>-1.514654</td>\n",
       "      <td>0.207643</td>\n",
       "      <td>...</td>\n",
       "      <td>0.247998</td>\n",
       "      <td>0.771679</td>\n",
       "      <td>0.909412</td>\n",
       "      <td>-0.689281</td>\n",
       "      <td>-0.327642</td>\n",
       "      <td>-0.139097</td>\n",
       "      <td>-0.055353</td>\n",
       "      <td>-0.059752</td>\n",
       "      <td>378.66</td>\n",
       "      <td>0</td>\n",
       "    </tr>\n",
       "    <tr>\n",
       "      <th>3</th>\n",
       "      <td>-0.966272</td>\n",
       "      <td>-0.185226</td>\n",
       "      <td>1.792993</td>\n",
       "      <td>-0.863291</td>\n",
       "      <td>-0.010309</td>\n",
       "      <td>1.247203</td>\n",
       "      <td>0.237609</td>\n",
       "      <td>0.377436</td>\n",
       "      <td>-1.387024</td>\n",
       "      <td>-0.054952</td>\n",
       "      <td>...</td>\n",
       "      <td>-0.108300</td>\n",
       "      <td>0.005274</td>\n",
       "      <td>-0.190321</td>\n",
       "      <td>-1.175575</td>\n",
       "      <td>0.647376</td>\n",
       "      <td>-0.221929</td>\n",
       "      <td>0.062723</td>\n",
       "      <td>0.061458</td>\n",
       "      <td>123.50</td>\n",
       "      <td>0</td>\n",
       "    </tr>\n",
       "    <tr>\n",
       "      <th>4</th>\n",
       "      <td>-1.158233</td>\n",
       "      <td>0.877737</td>\n",
       "      <td>1.548718</td>\n",
       "      <td>0.403034</td>\n",
       "      <td>-0.407193</td>\n",
       "      <td>0.095921</td>\n",
       "      <td>0.592941</td>\n",
       "      <td>-0.270533</td>\n",
       "      <td>0.817739</td>\n",
       "      <td>0.753074</td>\n",
       "      <td>...</td>\n",
       "      <td>-0.009431</td>\n",
       "      <td>0.798278</td>\n",
       "      <td>-0.137458</td>\n",
       "      <td>0.141267</td>\n",
       "      <td>-0.206010</td>\n",
       "      <td>0.502292</td>\n",
       "      <td>0.219422</td>\n",
       "      <td>0.215153</td>\n",
       "      <td>69.99</td>\n",
       "      <td>0</td>\n",
       "    </tr>\n",
       "  </tbody>\n",
       "</table>\n",
       "<p>5 rows × 30 columns</p>\n",
       "</div>"
      ]
     },
     "metadata": {
      "application/vnd.databricks.v1+output": {
       "addedWidgets": {},
       "arguments": {},
       "data": "<div>\n<style scoped>\n    .dataframe tbody tr th:only-of-type {\n        vertical-align: middle;\n    }\n\n    .dataframe tbody tr th {\n        vertical-align: top;\n    }\n\n    .dataframe thead th {\n        text-align: right;\n    }\n</style>\n<table border=\"1\" class=\"dataframe\">\n  <thead>\n    <tr style=\"text-align: right;\">\n      <th></th>\n      <th>V1</th>\n      <th>V2</th>\n      <th>V3</th>\n      <th>V4</th>\n      <th>V5</th>\n      <th>V6</th>\n      <th>V7</th>\n      <th>V8</th>\n      <th>V9</th>\n      <th>V10</th>\n      <th>...</th>\n      <th>V21</th>\n      <th>V22</th>\n      <th>V23</th>\n      <th>V24</th>\n      <th>V25</th>\n      <th>V26</th>\n      <th>V27</th>\n      <th>V28</th>\n      <th>Amount</th>\n      <th>Class</th>\n    </tr>\n  </thead>\n  <tbody>\n    <tr>\n      <th>0</th>\n      <td>-1.359807</td>\n      <td>-0.072781</td>\n      <td>2.536347</td>\n      <td>1.378155</td>\n      <td>-0.338321</td>\n      <td>0.462388</td>\n      <td>0.239599</td>\n      <td>0.098698</td>\n      <td>0.363787</td>\n      <td>0.090794</td>\n      <td>...</td>\n      <td>-0.018307</td>\n      <td>0.277838</td>\n      <td>-0.110474</td>\n      <td>0.066928</td>\n      <td>0.128539</td>\n      <td>-0.189115</td>\n      <td>0.133558</td>\n      <td>-0.021053</td>\n      <td>149.62</td>\n      <td>0</td>\n    </tr>\n    <tr>\n      <th>1</th>\n      <td>1.191857</td>\n      <td>0.266151</td>\n      <td>0.166480</td>\n      <td>0.448154</td>\n      <td>0.060018</td>\n      <td>-0.082361</td>\n      <td>-0.078803</td>\n      <td>0.085102</td>\n      <td>-0.255425</td>\n      <td>-0.166974</td>\n      <td>...</td>\n      <td>-0.225775</td>\n      <td>-0.638672</td>\n      <td>0.101288</td>\n      <td>-0.339846</td>\n      <td>0.167170</td>\n      <td>0.125895</td>\n      <td>-0.008983</td>\n      <td>0.014724</td>\n      <td>2.69</td>\n      <td>0</td>\n    </tr>\n    <tr>\n      <th>2</th>\n      <td>-1.358354</td>\n      <td>-1.340163</td>\n      <td>1.773209</td>\n      <td>0.379780</td>\n      <td>-0.503198</td>\n      <td>1.800499</td>\n      <td>0.791461</td>\n      <td>0.247676</td>\n      <td>-1.514654</td>\n      <td>0.207643</td>\n      <td>...</td>\n      <td>0.247998</td>\n      <td>0.771679</td>\n      <td>0.909412</td>\n      <td>-0.689281</td>\n      <td>-0.327642</td>\n      <td>-0.139097</td>\n      <td>-0.055353</td>\n      <td>-0.059752</td>\n      <td>378.66</td>\n      <td>0</td>\n    </tr>\n    <tr>\n      <th>3</th>\n      <td>-0.966272</td>\n      <td>-0.185226</td>\n      <td>1.792993</td>\n      <td>-0.863291</td>\n      <td>-0.010309</td>\n      <td>1.247203</td>\n      <td>0.237609</td>\n      <td>0.377436</td>\n      <td>-1.387024</td>\n      <td>-0.054952</td>\n      <td>...</td>\n      <td>-0.108300</td>\n      <td>0.005274</td>\n      <td>-0.190321</td>\n      <td>-1.175575</td>\n      <td>0.647376</td>\n      <td>-0.221929</td>\n      <td>0.062723</td>\n      <td>0.061458</td>\n      <td>123.50</td>\n      <td>0</td>\n    </tr>\n    <tr>\n      <th>4</th>\n      <td>-1.158233</td>\n      <td>0.877737</td>\n      <td>1.548718</td>\n      <td>0.403034</td>\n      <td>-0.407193</td>\n      <td>0.095921</td>\n      <td>0.592941</td>\n      <td>-0.270533</td>\n      <td>0.817739</td>\n      <td>0.753074</td>\n      <td>...</td>\n      <td>-0.009431</td>\n      <td>0.798278</td>\n      <td>-0.137458</td>\n      <td>0.141267</td>\n      <td>-0.206010</td>\n      <td>0.502292</td>\n      <td>0.219422</td>\n      <td>0.215153</td>\n      <td>69.99</td>\n      <td>0</td>\n    </tr>\n  </tbody>\n</table>\n<p>5 rows × 30 columns</p>\n</div>",
       "datasetInfos": [],
       "metadata": {},
       "removedWidgets": [],
       "textData": null,
       "type": "htmlSandbox"
      }
     },
     "output_type": "display_data"
    }
   ],
   "source": [
    "df = df.drop(\"Time\", axis=1) # cette colonne n'apporte rien à notre analyse \n",
    "df.head()\n",
    "  "
   ]
  },
  {
   "cell_type": "code",
   "execution_count": null,
   "metadata": {
    "application/vnd.databricks.v1+cell": {
     "cellMetadata": {
      "byteLimit": 2048000,
      "rowLimit": 10000
     },
     "inputWidgets": {},
     "nuid": "73bc8bce-b32c-4dd7-9162-17eb3c330cbb",
     "showTitle": false,
     "title": ""
    }
   },
   "outputs": [
    {
     "name": "stdout",
     "output_type": "stream",
     "text": [
      "Out[4]: <AxesSubplot:xlabel='Class', ylabel='count'>"
     ]
    },
    {
     "data": {
      "image/png": "[encoded data removed]"
     },
     "metadata": {
      "application/vnd.databricks.v1+output": {
       "addedWidgets": {},
       "arguments": {},
       "data": "data:image/png;base64,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\n",
       "datasetInfos": [],
       "metadata": {},
       "removedWidgets": [],
       "type": "image"
      }
     },
     "output_type": "display_data"
    }
   ],
   "source": [
    "sns.countplot(x='Class',data=df)"
   ]
  },
  {
   "cell_type": "code",
   "execution_count": null,
   "metadata": {
    "application/vnd.databricks.v1+cell": {
     "cellMetadata": {
      "byteLimit": 2048000,
      "rowLimit": 10000
     },
     "inputWidgets": {},
     "nuid": "d62e3ccb-5061-4e66-a5ca-b63e83983450",
     "showTitle": false,
     "title": ""
    }
   },
   "outputs": [],
   "source": [
    "normal = df[df.Class == 0].sample(frac=0.5,random_state=2020).reset_index(drop=True)\n",
    "anomaly = df[df.Class == 1]"
   ]
  },
  {
   "cell_type": "code",
   "execution_count": null,
   "metadata": {
    "application/vnd.databricks.v1+cell": {
     "cellMetadata": {
      "byteLimit": 2048000,
      "rowLimit": 10000
     },
     "inputWidgets": {},
     "nuid": "731720b0-4a3c-409b-97a5-e82326f7f4ff",
     "showTitle": false,
     "title": ""
    }
   },
   "outputs": [
    {
     "name": "stdout",
     "output_type": "stream",
     "text": [
      "Normal: (142158, 30)\n",
      "Anomaly: (492, 30)\n"
     ]
    }
   ],
   "source": [
    "print(f\"Normal: {normal.shape}\")\n",
    "print(f\"Anomaly: {anomaly.shape}\")"
   ]
  },
  {
   "cell_type": "code",
   "execution_count": null,
   "metadata": {
    "application/vnd.databricks.v1+cell": {
     "cellMetadata": {
      "byteLimit": 2048000,
      "rowLimit": 10000
     },
     "inputWidgets": {},
     "nuid": "5769731d-ac71-4f3c-9956-dd77e0cb0933",
     "showTitle": false,
     "title": ""
    }
   },
   "outputs": [],
   "source": [
    "normal_train, normal_test = train_test_split(normal,test_size = 0.2, random_state = 2020)\n",
    "anomaly_train, anomaly_test = train_test_split(anomaly, test_size = 0.2, random_state = 2020)\n",
    "normal_train, normal_validate = train_test_split(normal_train,test_size = 0.25, random_state = 2020)\n",
    "anomaly_train, anomaly_validate = train_test_split(anomaly_train, test_size = 0.25, random_state = 2020)"
   ]
  },
  {
   "cell_type": "code",
   "execution_count": null,
   "metadata": {
    "application/vnd.databricks.v1+cell": {
     "cellMetadata": {
      "byteLimit": 2048000,
      "rowLimit": 10000
     },
     "inputWidgets": {},
     "nuid": "c6255eee-09cf-4d11-adf7-d64ca863c7bb",
     "showTitle": false,
     "title": ""
    }
   },
   "outputs": [],
   "source": [
    "x_train = pd.concat((normal_train, anomaly_train))\n",
    "x_test = pd.concat((normal_test, anomaly_test))\n",
    "x_validate = pd.concat((normal_validate, anomaly_validate))"
   ]
  },
  {
   "cell_type": "code",
   "execution_count": null,
   "metadata": {
    "application/vnd.databricks.v1+cell": {
     "cellMetadata": {
      "byteLimit": 2048000,
      "rowLimit": 10000
     },
     "inputWidgets": {},
     "nuid": "198c2f4f-cb3f-4570-a103-3c32fd9da75f",
     "showTitle": false,
     "title": ""
    }
   },
   "outputs": [],
   "source": [
    "y_train = np.array(x_train[\"Class\"])\n",
    "y_test = np.array(x_test[\"Class\"])\n",
    "y_validate = np.array(x_validate[\"Class\"])"
   ]
  },
  {
   "cell_type": "code",
   "execution_count": null,
   "metadata": {
    "application/vnd.databricks.v1+cell": {
     "cellMetadata": {
      "byteLimit": 2048000,
      "rowLimit": 10000
     },
     "inputWidgets": {},
     "nuid": "c2659f61-56cb-4f6d-9324-f74a9aac356e",
     "showTitle": false,
     "title": ""
    }
   },
   "outputs": [],
   "source": [
    "x_train = x_train.drop(\"Class\", axis=1)\n",
    "x_test = x_test.drop(\"Class\", axis=1)\n",
    "x_validate = x_validate.drop(\"Class\", axis=1)"
   ]
  },
  {
   "cell_type": "code",
   "execution_count": null,
   "metadata": {
    "application/vnd.databricks.v1+cell": {
     "cellMetadata": {
      "byteLimit": 2048000,
      "rowLimit": 10000
     },
     "inputWidgets": {},
     "nuid": "7d78683b-b804-434c-b14b-e469ca54da35",
     "showTitle": false,
     "title": ""
    }
   },
   "outputs": [
    {
     "name": "stdout",
     "output_type": "stream",
     "text": [
      "Training sets:\n",
      "x_train: (85588, 29) \n",
      "y_train:(85588,)\n",
      "\n",
      "Testing sets:\n",
      "x_test: (28531, 29) \n",
      "y_test:(28531,)\n",
      "\n",
      "Validation sets:\n",
      "x_validate: (28531, 29) \n",
      "y_validate: (28531,)\n"
     ]
    }
   ],
   "source": [
    "print(\"Training sets:\\nx_train: {} \\ny_train:{}\".format(x_train.shape, y_train.shape))\n",
    "print(\"\\nTesting sets:\\nx_test: {} \\ny_test:{}\".format(x_test.shape, y_test.shape))\n",
    "print(\"\\nValidation sets:\\nx_validate: {} \\ny_validate: {}\".format(x_validate.shape, y_validate.shape))"
   ]
  },
  {
   "cell_type": "code",
   "execution_count": null,
   "metadata": {
    "application/vnd.databricks.v1+cell": {
     "cellMetadata": {
      "byteLimit": 2048000,
      "rowLimit": 10000
     },
     "inputWidgets": {},
     "nuid": "d6e5b593-859b-44b1-9878-76bbd9ae369a",
     "showTitle": false,
     "title": ""
    }
   },
   "outputs": [
    {
     "name": "stdout",
     "output_type": "stream",
     "text": [
      "Out[12]: StandardScaler()"
     ]
    }
   ],
   "source": [
    "scaler = StandardScaler()\n",
    "scaler.fit(pd.concat((normal, anomaly)).drop(\"Class\", axis=1))"
   ]
  },
  {
   "cell_type": "code",
   "execution_count": null,
   "metadata": {
    "application/vnd.databricks.v1+cell": {
     "cellMetadata": {
      "byteLimit": 2048000,
      "rowLimit": 10000
     },
     "inputWidgets": {},
     "nuid": "80a64aaa-dec8-401d-9b7b-b57a31c2209b",
     "showTitle": false,
     "title": ""
    }
   },
   "outputs": [],
   "source": [
    "x_train = scaler.transform(x_train)\n",
    "x_test = scaler.transform(x_test)\n",
    "x_validate = scaler.transform(x_validate)"
   ]
  },
  {
   "cell_type": "code",
   "execution_count": null,
   "metadata": {
    "application/vnd.databricks.v1+cell": {
     "cellMetadata": {
      "byteLimit": 2048000,
      "rowLimit": 10000
     },
     "inputWidgets": {},
     "nuid": "b6b49224-1c7a-4109-aa62-120eb01dc0c3",
     "showTitle": false,
     "title": ""
    }
   },
   "outputs": [],
   "source": [
    "def train(sk_model, x_train, y_train):\n",
    "    sk_model = sk_model.fit(x_train, y_train)\n",
    "    train_acc = sk_model.score(x_train, y_train)\n",
    "    mlflow.log_metric(\"train_acc\", train_acc)\n",
    "    print(f\"Train Accuracy: {train_acc:.3%}\")"
   ]
  },
  {
   "cell_type": "code",
   "execution_count": null,
   "metadata": {
    "application/vnd.databricks.v1+cell": {
     "cellMetadata": {
      "byteLimit": 2048000,
      "rowLimit": 10000
     },
     "inputWidgets": {},
     "nuid": "af7206bb-f030-4108-be6e-500fe8477aa0",
     "showTitle": false,
     "title": ""
    }
   },
   "outputs": [],
   "source": [
    "def evaluate(sk_model, x_test, y_test):\n",
    "    eval_acc = sk_model.score(x_test, y_test)\n",
    "    preds = sk_model.predict(x_test)\n",
    "    auc_score = roc_auc_score(y_test, preds)\n",
    "    mlflow.log_metric(\"eval_acc\", eval_acc) # nous avons fait la même chose pour l'accuracy de test (evaluation)\n",
    "    mlflow.log_metric(\"auc_score\", auc_score)# aussi pour l'AUC score \n",
    "    print(f\"Auc Score: {auc_score:.3%}\")\n",
    "    print(f\"Eval Accuracy: {eval_acc:.3%}\")\n",
    "    roc_plot = plot_roc_curve(sk_model, x_test, y_test,name='Scikit-learn ROC Curve')\n",
    "    plt.savefig(\"sklearn_roc_plot.png\")\n",
    "    plt.show()\n",
    "    plt.clf()\n",
    "    conf_matrix = confusion_matrix(y_test, preds)\n",
    "    ax = sns.heatmap(conf_matrix, annot=True,fmt='g')\n",
    "    ax.invert_xaxis()\n",
    "    ax.invert_yaxis()\n",
    "    plt.ylabel('Actual')\n",
    "    plt.xlabel('Predicted')\n",
    "    plt.title(\"Confusion Matrix\")\n",
    "    plt.savefig(\"sklearn_conf_matrix.png\")\n",
    "    # nous avons dit à MLflow de sauvegarder ces deux figure afin de les consulter à chaque \n",
    "    # exécution d'une façon organisée comme nous allons le voir plus loin dans cet atelier  \n",
    "    mlflow.log_artifact(\"sklearn_roc_plot.png\")\n",
    "    mlflow.log_artifact(\"sklearn_conf_matrix.png\")"
   ]
  },
  {
   "cell_type": "code",
   "execution_count": null,
   "metadata": {
    "application/vnd.databricks.v1+cell": {
     "cellMetadata": {
      "byteLimit": 2048000,
      "rowLimit": 10000
     },
     "inputWidgets": {},
     "nuid": "153d00bf-650e-4061-8d9e-3cb36b669140",
     "showTitle": false,
     "title": ""
    }
   },
   "outputs": [
    {
     "name": "stdout",
     "output_type": "stream",
     "text": [
      "Wrote 97 bytes.\n",
      "Out[16]: True"
     ]
    }
   ],
   "source": [
    "#to configure your DataBricks CLI\n",
    "token = dbutils.notebook.entry_point.getDbutils().notebook().getContext().apiToken().get()\n",
    "dbutils.fs.put(\"file:///root/.databrickscfg\",\"[DEFAULT]\\nhost=https://community.cloud.databricks.com\\ntoken =\"+token,overwrite=True)"
   ]
  },
  {
   "cell_type": "code",
   "execution_count": null,
   "metadata": {
    "application/vnd.databricks.v1+cell": {
     "cellMetadata": {
      "byteLimit": 2048000,
      "rowLimit": 10000
     },
     "inputWidgets": {},
     "nuid": "e0eac05a-f0d5-4d5d-abe3-64b38d3cafb0",
     "showTitle": false,
     "title": ""
    }
   },
   "outputs": [
    {
     "name": "stderr",
     "output_type": "stream",
     "text": [
      "/databricks/python/lib/python3.9/site-packages/sklearn/utils/optimize.py:210: ConvergenceWarning: newton-cg failed to converge. Increase the number of iterations.\n",
      "  warnings.warn(\n"
     ]
    },
    {
     "name": "stdout",
     "output_type": "stream",
     "text": [
      "Train Accuracy: 99.893%\n",
      "Auc Score: 85.341%\n",
      "Eval Accuracy: 99.874%\n"
     ]
    },
    {
     "name": "stderr",
     "output_type": "stream",
     "text": [
      "/databricks/python/lib/python3.9/site-packages/sklearn/utils/deprecation.py:87: FutureWarning: Function plot_roc_curve is deprecated; Function :func:`plot_roc_curve` is deprecated in 1.0 and will be removed in 1.2. Use one of the class methods: :meth:`sklearn.metric.RocCurveDisplay.from_predictions` or :meth:`sklearn.metric.RocCurveDisplay.from_estimator`.\n",
      "  warnings.warn(msg, category=FutureWarning)\n"
     ]
    },
    {
     "data": {
      "image/png": "[encoded data removed]"
     },
     "metadata": {
      "application/vnd.databricks.v1+output": {
       "addedWidgets": {},
       "arguments": {},
       "data": "data:image/png;base64,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\n",
       "datasetInfos": [],
       "metadata": {},
       "removedWidgets": [],
       "type": "image"
      }
     },
     "output_type": "display_data"
    },
    {
     "name": "stderr",
     "output_type": "stream",
     "text": [
      "2024/01/07 19:34:28 WARNING mlflow.models.model: Model logged without a signature. Signatures will be required for upcoming model registry features as they validate model inputs and denote the expected schema of model outputs. Please visit https://www.mlflow.org/docs/2.9.2/models.html#set-signature-on-logged-model for instructions on setting a model signature on your logged model.\n",
      "/databricks/python/lib/python3.9/site-packages/_distutils_hack/__init__.py:30: UserWarning: Setuptools is replacing distutils.\n",
      "  warnings.warn(\"Setuptools is replacing distutils.\")\n"
     ]
    },
    {
     "name": "stdout",
     "output_type": "stream",
     "text": [
      "Model run:  1a0cd26ac6c6439c9b41c49b35341634\n"
     ]
    },
    {
     "data": {
      "image/png": "[encoded data removed]"
     },
     "metadata": {
      "application/vnd.databricks.v1+output": {
       "addedWidgets": {},
       "arguments": {},
       "data": "data:image/png;base64,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\n",
       "datasetInfos": [],
       "metadata": {},
       "removedWidgets": [],
       "type": "image"
      }
     },
     "output_type": "display_data"
    }
   ],
   "source": [
    "sk_model = LogisticRegression(random_state=None,max_iter=10, solver='newton-cg')\n",
    "mlflow.set_experiment(\"/Users/Hiba.KHEY@um6p.ma/scikit_learn_experiment10\")\n",
    "with mlflow.start_run():\n",
    "    train(sk_model, x_train, y_train)\n",
    "    evaluate(sk_model, x_test, y_test)\n",
    "    mlflow.sklearn.log_model(sk_model, \"log_reg_model\")\n",
    "    print(\"Model run: \", mlflow.active_run().info.run_uuid)\n",
    "mlflow.end_run()"
   ]
  },
  {
   "cell_type": "code",
   "execution_count": null,
   "metadata": {
    "application/vnd.databricks.v1+cell": {
     "cellMetadata": {
      "byteLimit": 2048000,
      "rowLimit": 10000
     },
     "inputWidgets": {},
     "nuid": "604af87b-4f6b-44de-851f-fc03ef41f5bd",
     "showTitle": false,
     "title": ""
    }
   },
   "outputs": [
    {
     "name": "stderr",
     "output_type": "stream",
     "text": [
      "/databricks/python/lib/python3.9/site-packages/sklearn/model_selection/_validation.py:372: FitFailedWarning: \n",
      "630 fits failed out of a total of 1500.\n",
      "The score on these train-test partitions for these parameters will be set to nan.\n",
      "If these failures are not expected, you can try to debug them by setting error_score='raise'.\n",
      "\n",
      "Below are more details about the failures:\n",
      "--------------------------------------------------------------------------------\n",
      "120 fits failed with the following error:\n",
      "Traceback (most recent call last):\n",
      "  File \"/databricks/python/lib/python3.9/site-packages/sklearn/model_selection/_validation.py\", line 680, in _fit_and_score\n",
      "    estimator.fit(X_train, y_train, **fit_params)\n",
      "  File \"/databricks/python/lib/python3.9/site-packages/sklearn/linear_model/_logistic.py\", line 1461, in fit\n",
      "    solver = _check_solver(self.solver, self.penalty, self.dual)\n",
      "  File \"/databricks/python/lib/python3.9/site-packages/sklearn/linear_model/_logistic.py\", line 447, in _check_solver\n",
      "    raise ValueError(\n",
      "ValueError: Solver lbfgs supports only 'l2' or 'none' penalties, got elasticnet penalty.\n",
      "\n",
      "--------------------------------------------------------------------------------\n",
      "150 fits failed with the following error:\n",
      "Traceback (most recent call last):\n",
      "  File \"/databricks/python/lib/python3.9/site-packages/sklearn/model_selection/_validation.py\", line 680, in _fit_and_score\n",
      "    estimator.fit(X_train, y_train, **fit_params)\n",
      "  File \"/databricks/python/lib/python3.9/site-packages/sklearn/linear_model/_logistic.py\", line 1461, in fit\n",
      "    solver = _check_solver(self.solver, self.penalty, self.dual)\n",
      "  File \"/databricks/python/lib/python3.9/site-packages/sklearn/linear_model/_logistic.py\", line 447, in _check_solver\n",
      "    raise ValueError(\n",
      "ValueError: Solver newton-cg supports only 'l2' or 'none' penalties, got l1 penalty.\n",
      "\n",
      "--------------------------------------------------------------------------------\n",
      "180 fits failed with the following error:\n",
      "Traceback (most recent call last):\n",
      "  File \"/databricks/python/lib/python3.9/site-packages/sklearn/model_selection/_validation.py\", line 680, in _fit_and_score\n",
      "    estimator.fit(X_train, y_train, **fit_params)\n",
      "  File \"/databricks/python/lib/python3.9/site-packages/sklearn/linear_model/_logistic.py\", line 1461, in fit\n",
      "    solver = _check_solver(self.solver, self.penalty, self.dual)\n",
      "  File \"/databricks/python/lib/python3.9/site-packages/sklearn/linear_model/_logistic.py\", line 447, in _check_solver\n",
      "    raise ValueError(\n",
      "ValueError: Solver lbfgs supports only 'l2' or 'none' penalties, got l1 penalty.\n",
      "\n",
      "--------------------------------------------------------------------------------\n",
      "90 fits failed with the following error:\n",
      "Traceback (most recent call last):\n",
      "  File \"/databricks/python/lib/python3.9/site-packages/sklearn/model_selection/_validation.py\", line 680, in _fit_and_score\n",
      "    estimator.fit(X_train, y_train, **fit_params)\n",
      "  File \"/databricks/python/lib/python3.9/site-packages/sklearn/linear_model/_logistic.py\", line 1461, in fit\n",
      "    solver = _check_solver(self.solver, self.penalty, self.dual)\n",
      "  File \"/databricks/python/lib/python3.9/site-packages/sklearn/linear_model/_logistic.py\", line 464, in _check_solver\n",
      "    raise ValueError(\"penalty='none' is not supported for the liblinear solver\")\n",
      "ValueError: penalty='none' is not supported for the liblinear solver\n",
      "\n",
      "--------------------------------------------------------------------------------\n",
      "60 fits failed with the following error:\n",
      "Traceback (most recent call last):\n",
      "  File \"/databricks/python/lib/python3.9/site-packages/sklearn/model_selection/_validation.py\", line 680, in _fit_and_score\n",
      "    estimator.fit(X_train, y_train, **fit_params)\n",
      "  File \"/databricks/python/lib/python3.9/site-packages/sklearn/linear_model/_logistic.py\", line 1461, in fit\n",
      "    solver = _check_solver(self.solver, self.penalty, self.dual)\n",
      "  File \"/databricks/python/lib/python3.9/site-packages/sklearn/linear_model/_logistic.py\", line 457, in _check_solver\n",
      "    raise ValueError(\n",
      "ValueError: Only 'saga' solver supports elasticnet penalty, got solver=liblinear.\n",
      "\n",
      "--------------------------------------------------------------------------------\n",
      "30 fits failed with the following error:\n",
      "Traceback (most recent call last):\n",
      "  File \"/databricks/python/lib/python3.9/site-packages/sklearn/model_selection/_validation.py\", line 680, in _fit_and_score\n",
      "    estimator.fit(X_train, y_train, **fit_params)\n",
      "  File \"/databricks/python/lib/python3.9/site-packages/sklearn/linear_model/_logistic.py\", line 1461, in fit\n",
      "    solver = _check_solver(self.solver, self.penalty, self.dual)\n",
      "  File \"/databricks/python/lib/python3.9/site-packages/sklearn/linear_model/_logistic.py\", line 447, in _check_solver\n",
      "    raise ValueError(\n",
      "ValueError: Solver newton-cg supports only 'l2' or 'none' penalties, got elasticnet penalty.\n",
      "\n",
      "  warnings.warn(some_fits_failed_message, FitFailedWarning)\n",
      "/databricks/python/lib/python3.9/site-packages/sklearn/model_selection/_search.py:969: UserWarning: One or more of the test scores are non-finite: [0.99881604        nan 0.99881604        nan 0.99881604 0.99881604\n",
      " 0.99882383 0.99882772        nan        nan        nan        nan\n",
      " 0.99881604        nan 0.99881993        nan        nan 0.99881604\n",
      " 0.99882772        nan 0.99881604 0.99881993 0.99881604 0.99882772\n",
      " 0.99881604        nan 0.99881604        nan 0.99881604 0.99881604\n",
      " 0.99882383        nan 0.99881604        nan 0.99881604 0.99882383\n",
      "        nan 0.99881604 0.99881604        nan 0.99881604 0.99882383\n",
      " 0.99881604 0.99881604        nan 0.99882383        nan        nan\n",
      "        nan        nan]\n",
      "  warnings.warn(\n",
      "/databricks/python/lib/python3.9/site-packages/sklearn/model_selection/_validation.py:372: FitFailedWarning: \n",
      "630 fits failed out of a total of 1500.\n",
      "The score on these train-test partitions for these parameters will be set to nan.\n",
      "If these failures are not expected, you can try to debug them by setting error_score='raise'.\n",
      "\n",
      "Below are more details about the failures:\n",
      "--------------------------------------------------------------------------------\n",
      "120 fits failed with the following error:\n",
      "Traceback (most recent call last):\n",
      "  File \"/databricks/python/lib/python3.9/site-packages/sklearn/model_selection/_validation.py\", line 680, in _fit_and_score\n",
      "    estimator.fit(X_train, y_train, **fit_params)\n",
      "  File \"/databricks/python/lib/python3.9/site-packages/sklearn/linear_model/_logistic.py\", line 1461, in fit\n",
      "    solver = _check_solver(self.solver, self.penalty, self.dual)\n",
      "  File \"/databricks/python/lib/python3.9/site-packages/sklearn/linear_model/_logistic.py\", line 447, in _check_solver\n",
      "    raise ValueError(\n",
      "ValueError: Solver lbfgs supports only 'l2' or 'none' penalties, got elasticnet penalty.\n",
      "\n",
      "--------------------------------------------------------------------------------\n",
      "150 fits failed with the following error:\n",
      "Traceback (most recent call last):\n",
      "  File \"/databricks/python/lib/python3.9/site-packages/sklearn/model_selection/_validation.py\", line 680, in _fit_and_score\n",
      "    estimator.fit(X_train, y_train, **fit_params)\n",
      "  File \"/databricks/python/lib/python3.9/site-packages/sklearn/linear_model/_logistic.py\", line 1461, in fit\n",
      "    solver = _check_solver(self.solver, self.penalty, self.dual)\n",
      "  File \"/databricks/python/lib/python3.9/site-packages/sklearn/linear_model/_logistic.py\", line 447, in _check_solver\n",
      "    raise ValueError(\n",
      "ValueError: Solver newton-cg supports only 'l2' or 'none' penalties, got l1 penalty.\n",
      "\n",
      "--------------------------------------------------------------------------------\n",
      "180 fits failed with the following error:\n",
      "Traceback (most recent call last):\n",
      "  File \"/databricks/python/lib/python3.9/site-packages/sklearn/model_selection/_validation.py\", line 680, in _fit_and_score\n",
      "    estimator.fit(X_train, y_train, **fit_params)\n",
      "  File \"/databricks/python/lib/python3.9/site-packages/sklearn/linear_model/_logistic.py\", line 1461, in fit\n",
      "    solver = _check_solver(self.solver, self.penalty, self.dual)\n",
      "  File \"/databricks/python/lib/python3.9/site-packages/sklearn/linear_model/_logistic.py\", line 447, in _check_solver\n",
      "    raise ValueError(\n",
      "ValueError: Solver lbfgs supports only 'l2' or 'none' penalties, got l1 penalty.\n",
      "\n",
      "--------------------------------------------------------------------------------\n",
      "90 fits failed with the following error:\n",
      "Traceback (most recent call last):\n",
      "  File \"/databricks/python/lib/python3.9/site-packages/sklearn/model_selection/_validation.py\", line 680, in _fit_and_score\n",
      "    estimator.fit(X_train, y_train, **fit_params)\n",
      "  File \"/databricks/python/lib/python3.9/site-packages/sklearn/linear_model/_logistic.py\", line 1461, in fit\n",
      "    solver = _check_solver(self.solver, self.penalty, self.dual)\n",
      "  File \"/databricks/python/lib/python3.9/site-packages/sklearn/linear_model/_logistic.py\", line 464, in _check_solver\n",
      "    raise ValueError(\"penalty='none' is not supported for the liblinear solver\")\n",
      "ValueError: penalty='none' is not supported for the liblinear solver\n",
      "\n",
      "--------------------------------------------------------------------------------\n",
      "60 fits failed with the following error:\n",
      "Traceback (most recent call last):\n",
      "  File \"/databricks/python/lib/python3.9/site-packages/sklearn/model_selection/_validation.py\", line 680, in _fit_and_score\n",
      "    estimator.fit(X_train, y_train, **fit_params)\n",
      "  File \"/databricks/python/lib/python3.9/site-packages/sklearn/linear_model/_logistic.py\", line 1461, in fit\n",
      "    solver = _check_solver(self.solver, self.penalty, self.dual)\n",
      "  File \"/databricks/python/lib/python3.9/site-packages/sklearn/linear_model/_logistic.py\", line 457, in _check_solver\n",
      "    raise ValueError(\n",
      "ValueError: Only 'saga' solver supports elasticnet penalty, got solver=liblinear.\n",
      "\n",
      "--------------------------------------------------------------------------------\n",
      "30 fits failed with the following error:\n",
      "Traceback (most recent call last):\n",
      "  File \"/databricks/python/lib/python3.9/site-packages/sklearn/model_selection/_validation.py\", line 680, in _fit_and_score\n",
      "    estimator.fit(X_train, y_train, **fit_params)\n",
      "  File \"/databricks/python/lib/python3.9/site-packages/sklearn/linear_model/_logistic.py\", line 1461, in fit\n",
      "    solver = _check_solver(self.solver, self.penalty, self.dual)\n",
      "  File \"/databricks/python/lib/python3.9/site-packages/sklearn/linear_model/_logistic.py\", line 447, in _check_solver\n",
      "    raise ValueError(\n",
      "ValueError: Solver newton-cg supports only 'l2' or 'none' penalties, got elasticnet penalty.\n",
      "\n",
      "  warnings.warn(some_fits_failed_message, FitFailedWarning)\n",
      "/databricks/python/lib/python3.9/site-packages/sklearn/model_selection/_search.py:969: UserWarning: One or more of the test scores are non-finite: [0.99881604        nan 0.99881604        nan 0.99881604 0.99881604\n",
      " 0.99882383 0.99882772        nan        nan        nan        nan\n",
      " 0.99881604        nan 0.99881993        nan        nan 0.99881604\n",
      " 0.99882772        nan 0.99881604 0.99881993 0.99881604 0.99882772\n",
      " 0.99881604        nan 0.99881604        nan 0.99881604 0.99881604\n",
      " 0.99882383        nan 0.99881604        nan 0.99881604 0.99882383\n",
      "        nan 0.99881604 0.99881604        nan 0.99881604 0.99882383\n",
      " 0.99881604 0.99881604        nan 0.99882383        nan        nan\n",
      "        nan        nan]\n",
      "  warnings.warn(\n"
     ]
    },
    {
     "name": "stdout",
     "output_type": "stream",
     "text": [
      "Train Accuracy: 99.893%\n",
      "Auc Score: 85.341%\n",
      "Eval Accuracy: 99.874%\n"
     ]
    },
    {
     "name": "stderr",
     "output_type": "stream",
     "text": [
      "/databricks/python/lib/python3.9/site-packages/sklearn/utils/deprecation.py:87: FutureWarning: Function plot_roc_curve is deprecated; Function :func:`plot_roc_curve` is deprecated in 1.0 and will be removed in 1.2. Use one of the class methods: :meth:`sklearn.metric.RocCurveDisplay.from_predictions` or :meth:`sklearn.metric.RocCurveDisplay.from_estimator`.\n",
      "  warnings.warn(msg, category=FutureWarning)\n"
     ]
    },
    {
     "data": {
      "image/png": "[encoded data removed]"
     },
     "metadata": {
      "application/vnd.databricks.v1+output": {
       "addedWidgets": {},
       "arguments": {},
       "data": "data:image/png;base64,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\n",
       "datasetInfos": [],
       "metadata": {},
       "removedWidgets": [],
       "type": "image"
      }
     },
     "output_type": "display_data"
    },
    {
     "name": "stderr",
     "output_type": "stream",
     "text": [
      "2024/01/07 20:58:53 WARNING mlflow.models.model: Model logged without a signature. Signatures will be required for upcoming model registry features as they validate model inputs and denote the expected schema of model outputs. Please visit https://www.mlflow.org/docs/2.9.2/models.html#set-signature-on-logged-model for instructions on setting a model signature on your logged model.\n"
     ]
    },
    {
     "name": "stdout",
     "output_type": "stream",
     "text": [
      "Model run:  ab7404bb8a064605ab00ba78526e3196\n"
     ]
    },
    {
     "data": {
      "image/png": "[encoded data removed]"
     },
     "metadata": {
      "application/vnd.databricks.v1+output": {
       "addedWidgets": {},
       "arguments": {},
       "data": "data:image/png;base64,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\n",
       "datasetInfos": [],
       "metadata": {},
       "removedWidgets": [],
       "type": "image"
      }
     },
     "output_type": "display_data"
    }
   ],
   "source": [
    "\n",
    "# define evaluation\n",
    "\n",
    "# define search space\n",
    "from sklearn.model_selection import RepeatedStratifiedKFold\n",
    "from sklearn.model_selection import RandomizedSearchCV\n",
    "from scipy.stats import loguniform\n",
    "# summarize result\n",
    "#print('Best Score: %s' % result.best_score_)\n",
    "#print('Best Hyperparameters: %s' % result.best_params_)\n",
    "\n",
    "model = LogisticRegression()\n",
    "cv = RepeatedStratifiedKFold(n_splits=10, n_repeats=3, random_state=1)\n",
    "space = dict()\n",
    "space['solver'] = ['newton-cg', 'lbfgs', 'liblinear']\n",
    "space['penalty'] = ['none', 'l1', 'l2', 'elasticnet']\n",
    "space['C'] = loguniform(1, 10)\n",
    "mlflow.set_experiment(\"/Users/Hiba.KHEY@um6p.ma/scikit_learn_experiment10\")\n",
    "with mlflow.start_run():\n",
    "    search = RandomizedSearchCV(model, space, n_iter=50, scoring='accuracy', n_jobs=-1, cv=cv, random_state=1)\n",
    "    sk_model = search.fit(x_train, y_train)\n",
    "    train(sk_model, x_train, y_train)\n",
    "    evaluate(sk_model, x_test, y_test)\n",
    "    mlflow.sklearn.log_model(sk_model, \"log_reg_model\")\n",
    "    print(\"Model run: \", mlflow.active_run().info.run_uuid)\n",
    "mlflow.end_run()"
   ]
  },
  {
   "cell_type": "code",
   "execution_count": null,
   "metadata": {
    "application/vnd.databricks.v1+cell": {
     "cellMetadata": {
      "byteLimit": 2048000,
      "rowLimit": 10000
     },
     "inputWidgets": {},
     "nuid": "9e75976f-77f7-4d8f-a56e-40ba30dbc676",
     "showTitle": false,
     "title": ""
    }
   },
   "outputs": [
    {
     "data": {
      "text/html": [
       "<style scoped>\n",
       "  .table-result-container {\n",
       "    max-height: 300px;\n",
       "    overflow: auto;\n",
       "  }\n",
       "  table, th, td {\n",
       "    border: 1px solid black;\n",
       "    border-collapse: collapse;\n",
       "  }\n",
       "  th, td {\n",
       "    padding: 5px;\n",
       "  }\n",
       "  th {\n",
       "    text-align: left;\n",
       "  }\n",
       "</style><div class='table-result-container'><table class='table-result'><thead style='background-color: white'><tr><th>run_id</th><th>experiment_id</th><th>status</th><th>artifact_uri</th><th>start_time</th><th>end_time</th><th>metrics.auc_score</th><th>metrics.eval_acc</th><th>metrics.train_acc</th><th>tags.mlflow.databricks.cluster.id</th><th>tags.mlflow.databricks.notebookRevisionID</th><th>tags.mlflow.user</th><th>tags.mlflow.databricks.workspaceID</th><th>tags.mlflow.databricks.workspaceURL</th><th>tags.mlflow.databricks.notebookPath</th><th>tags.mlflow.source.name</th><th>tags.mlflow.runName</th><th>tags.mlflow.databricks.notebookID</th><th>tags.mlflow.source.type</th><th>tags.mlflow.databricks.cluster.info</th><th>tags.mlflow.databricks.notebook.commandID</th><th>tags.mlflow.databricks.webappURL</th><th>tags.mlflow.databricks.cluster.libraries</th><th>tags.mlflow.log-model.history</th></tr></thead><tbody><tr><td>ee2f053182f842d999bfdfc76f806556</td><td>2625494308674263</td><td>FAILED</td><td>dbfs:/databricks/mlflow-tracking/2625494308674263/ee2f053182f842d999bfdfc76f806556/artifacts</td><td>2024-01-07T19:34:32.917+0000</td><td>2024-01-07T19:54:33.994+0000</td><td>null</td><td>null</td><td>null</td><td>0107-192230-a8abk1ak</td><td>1704657274237</td><td>Hiba.KHEY@um6p.ma</td><td>6894176970319549</td><td>https://community.cloud.databricks.com</td><td>/Users/Hiba.KHEY@um6p.ma/Untitled Notebook 2024-01-07 17:18:10</td><td>/Users/Hiba.KHEY@um6p.ma/Untitled Notebook 2024-01-07 17:18:10</td><td>learned-dolphin-37</td><td>2625494308674235</td><td>NOTEBOOK</td><td>{\"cluster_name\":\"My Cluster\",\"spark_version\":\"12.2.x-scala2.12\",\"node_type_id\":\"dev-tier-node\",\"driver_node_type_id\":\"dev-tier-node\",\"autotermination_minutes\":120,\"disk_spec\":{\"disk_count\":0},\"num_workers\":0}</td><td>7242886980379737350_5751950079008298620_20c3fc571b9441739c88899b1b36c220</td><td>https://community.cloud.databricks.com</td><td>{\"installable\":[],\"redacted\":[]}</td><td>null</td></tr><tr><td>1a0cd26ac6c6439c9b41c49b35341634</td><td>2625494308674263</td><td>FINISHED</td><td>dbfs:/databricks/mlflow-tracking/2625494308674263/1a0cd26ac6c6439c9b41c49b35341634/artifacts</td><td>2024-01-07T19:34:25.470+0000</td><td>2024-01-07T19:34:32.296+0000</td><td>0.8534122528037835</td><td>0.9987382145736217</td><td>0.9989250829555545</td><td>0107-192230-a8abk1ak</td><td>1704656072459</td><td>Hiba.KHEY@um6p.ma</td><td>6894176970319549</td><td>https://community.cloud.databricks.com</td><td>/Users/Hiba.KHEY@um6p.ma/Untitled Notebook 2024-01-07 17:18:10</td><td>/Users/Hiba.KHEY@um6p.ma/Untitled Notebook 2024-01-07 17:18:10</td><td>redolent-asp-161</td><td>2625494308674235</td><td>NOTEBOOK</td><td>{\"cluster_name\":\"My Cluster\",\"spark_version\":\"12.2.x-scala2.12\",\"node_type_id\":\"dev-tier-node\",\"driver_node_type_id\":\"dev-tier-node\",\"autotermination_minutes\":120,\"disk_spec\":{\"disk_count\":0},\"num_workers\":0}</td><td>7242886980379737350_6141383493755865252_4ec9c3a33df24b88bb3af4643ef3740f</td><td>https://community.cloud.databricks.com</td><td>{\"installable\":[],\"redacted\":[]}</td><td>[{\"artifact_path\":\"log_reg_model\",\"flavors\":{\"python_function\":{\"predict_fn\":\"predict\",\"model_path\":\"model.pkl\",\"loader_module\":\"mlflow.sklearn\",\"env\":{\"conda\":\"conda.yaml\",\"virtualenv\":\"python_env.yaml\"},\"python_version\":\"3.9.5\"},\"sklearn\":{\"pickled_model\":\"model.pkl\",\"sklearn_version\":\"1.0.2\",\"serialization_format\":\"cloudpickle\",\"code\":null}},\"run_id\":\"1a0cd26ac6c6439c9b41c49b35341634\",\"model_uuid\":\"7f9b64432b4b45a69473b9353e7f8608\",\"model_size_bytes\":902,\"utc_time_created\":\"2024-01-07 19:34:28.057148\",\"mlflow_version\":\"2.9.2\",\"databricks_runtime\":\"12.2.x-scala2.12\"}]</td></tr><tr><td>2df7d4de5e224df3b882dbab227ec90c</td><td>2625494308674263</td><td>RUNNING</td><td>dbfs:/databricks/mlflow-tracking/2625494308674263/2df7d4de5e224df3b882dbab227ec90c/artifacts</td><td>2024-01-07T16:38:50.740+0000</td><td>null</td><td>null</td><td>null</td><td>null</td><td>0107-161849-hsyjxg5p</td><td>null</td><td>Hiba.KHEY@um6p.ma</td><td>6894176970319549</td><td>https://community.cloud.databricks.com</td><td>/Users/Hiba.KHEY@um6p.ma/Untitled Notebook 2024-01-07 17:18:10</td><td>/Users/Hiba.KHEY@um6p.ma/Untitled Notebook 2024-01-07 17:18:10</td><td>crawling-elk-180</td><td>2625494308674235</td><td>NOTEBOOK</td><td>{\"cluster_name\":\"My Cluster\",\"spark_version\":\"12.2.x-scala2.12\",\"node_type_id\":\"dev-tier-node\",\"driver_node_type_id\":\"dev-tier-node\",\"autotermination_minutes\":120,\"disk_spec\":{\"disk_count\":0},\"num_workers\":0}</td><td>7241135956740175419_5276067649656334512_d327487be27f4c4d8b018e80966e7700</td><td>https://community.cloud.databricks.com</td><td>{\"installable\":[],\"redacted\":[]}</td><td>null</td></tr><tr><td>f499adc0f2a94c3f956b12b70005f5cc</td><td>2625494308674263</td><td>FINISHED</td><td>dbfs:/databricks/mlflow-tracking/2625494308674263/f499adc0f2a94c3f956b12b70005f5cc/artifacts</td><td>2024-01-07T16:37:38.284+0000</td><td>2024-01-07T16:37:44.316+0000</td><td>0.8534122528037835</td><td>0.9987382145736217</td><td>0.9989250829555545</td><td>0107-161849-hsyjxg5p</td><td>1704645464483</td><td>Hiba.KHEY@um6p.ma</td><td>6894176970319549</td><td>https://community.cloud.databricks.com</td><td>/Users/Hiba.KHEY@um6p.ma/Untitled Notebook 2024-01-07 17:18:10</td><td>/Users/Hiba.KHEY@um6p.ma/Untitled Notebook 2024-01-07 17:18:10</td><td>kindly-midge-739</td><td>2625494308674235</td><td>NOTEBOOK</td><td>{\"cluster_name\":\"My Cluster\",\"spark_version\":\"12.2.x-scala2.12\",\"node_type_id\":\"dev-tier-node\",\"driver_node_type_id\":\"dev-tier-node\",\"autotermination_minutes\":120,\"disk_spec\":{\"disk_count\":0},\"num_workers\":0}</td><td>7241135956740175419_8028629527399120645_dc80712a21774c3ab047c1da46f5955a</td><td>https://community.cloud.databricks.com</td><td>{\"installable\":[],\"redacted\":[]}</td><td>[{\"artifact_path\":\"log_reg_model\",\"flavors\":{\"python_function\":{\"predict_fn\":\"predict\",\"model_path\":\"model.pkl\",\"loader_module\":\"mlflow.sklearn\",\"env\":{\"conda\":\"conda.yaml\",\"virtualenv\":\"python_env.yaml\"},\"python_version\":\"3.9.5\"},\"sklearn\":{\"pickled_model\":\"model.pkl\",\"sklearn_version\":\"1.0.2\",\"serialization_format\":\"cloudpickle\",\"code\":null}},\"run_id\":\"f499adc0f2a94c3f956b12b70005f5cc\",\"model_uuid\":\"af2baa8b86ad4ecda6f8692289ba1b3a\",\"model_size_bytes\":902,\"utc_time_created\":\"2024-01-07 16:37:40.358240\",\"mlflow_version\":\"2.9.2\",\"databricks_runtime\":\"12.2.x-scala2.12\"}]</td></tr><tr><td>94f3e42cb7744425bb16de84e8d8789b</td><td>2625494308674263</td><td>FAILED</td><td>dbfs:/databricks/mlflow-tracking/2625494308674263/94f3e42cb7744425bb16de84e8d8789b/artifacts</td><td>2024-01-07T16:36:40.648+0000</td><td>2024-01-07T16:36:42.162+0000</td><td>0.8534122528037835</td><td>0.9987382145736217</td><td>0.9989250829555545</td><td>0107-161849-hsyjxg5p</td><td>1704645402305</td><td>Hiba.KHEY@um6p.ma</td><td>6894176970319549</td><td>https://community.cloud.databricks.com</td><td>/Users/Hiba.KHEY@um6p.ma/Untitled Notebook 2024-01-07 17:18:10</td><td>/Users/Hiba.KHEY@um6p.ma/Untitled Notebook 2024-01-07 17:18:10</td><td>wistful-penguin-221</td><td>2625494308674235</td><td>NOTEBOOK</td><td>{\"cluster_name\":\"My Cluster\",\"spark_version\":\"12.2.x-scala2.12\",\"node_type_id\":\"dev-tier-node\",\"driver_node_type_id\":\"dev-tier-node\",\"autotermination_minutes\":120,\"disk_spec\":{\"disk_count\":0},\"num_workers\":0}</td><td>7241135956740175419_8794737706791559011_dec7b550e25948b080f0e8eaffc5221c</td><td>https://community.cloud.databricks.com</td><td>{\"installable\":[],\"redacted\":[]}</td><td>null</td></tr></tbody></table></div>"
      ]
     },
     "metadata": {
      "application/vnd.databricks.v1+output": {
       "addedWidgets": {},
       "aggData": [],
       "aggError": "",
       "aggOverflow": false,
       "aggSchema": [],
       "aggSeriesLimitReached": false,
       "aggType": "",
       "arguments": {},
       "columnCustomDisplayInfos": {},
       "data": [
        [
         "ee2f053182f842d999bfdfc76f806556",
         "2625494308674263",
         "FAILED",
         "dbfs:/databricks/mlflow-tracking/2625494308674263/ee2f053182f842d999bfdfc76f806556/artifacts",
         "2024-01-07T19:34:32.917+0000",
         "2024-01-07T19:54:33.994+0000",
         null,
         null,
         null,
         "0107-192230-a8abk1ak",
         "1704657274237",
         "Hiba.KHEY@um6p.ma",
         "6894176970319549",
         "https://community.cloud.databricks.com",
         "/Users/Hiba.KHEY@um6p.ma/Untitled Notebook 2024-01-07 17:18:10",
         "/Users/Hiba.KHEY@um6p.ma/Untitled Notebook 2024-01-07 17:18:10",
         "learned-dolphin-37",
         "2625494308674235",
         "NOTEBOOK",
         "{\"cluster_name\":\"My Cluster\",\"spark_version\":\"12.2.x-scala2.12\",\"node_type_id\":\"dev-tier-node\",\"driver_node_type_id\":\"dev-tier-node\",\"autotermination_minutes\":120,\"disk_spec\":{\"disk_count\":0},\"num_workers\":0}",
         "7242886980379737350_5751950079008298620_20c3fc571b9441739c88899b1b36c220",
         "https://community.cloud.databricks.com",
         "{\"installable\":[],\"redacted\":[]}",
         null
        ],
        [
         "1a0cd26ac6c6439c9b41c49b35341634",
         "2625494308674263",
         "FINISHED",
         "dbfs:/databricks/mlflow-tracking/2625494308674263/1a0cd26ac6c6439c9b41c49b35341634/artifacts",
         "2024-01-07T19:34:25.470+0000",
         "2024-01-07T19:34:32.296+0000",
         0.8534122528037835,
         0.9987382145736217,
         0.9989250829555545,
         "0107-192230-a8abk1ak",
         "1704656072459",
         "Hiba.KHEY@um6p.ma",
         "6894176970319549",
         "https://community.cloud.databricks.com",
         "/Users/Hiba.KHEY@um6p.ma/Untitled Notebook 2024-01-07 17:18:10",
         "/Users/Hiba.KHEY@um6p.ma/Untitled Notebook 2024-01-07 17:18:10",
         "redolent-asp-161",
         "2625494308674235",
         "NOTEBOOK",
         "{\"cluster_name\":\"My Cluster\",\"spark_version\":\"12.2.x-scala2.12\",\"node_type_id\":\"dev-tier-node\",\"driver_node_type_id\":\"dev-tier-node\",\"autotermination_minutes\":120,\"disk_spec\":{\"disk_count\":0},\"num_workers\":0}",
         "7242886980379737350_6141383493755865252_4ec9c3a33df24b88bb3af4643ef3740f",
         "https://community.cloud.databricks.com",
         "{\"installable\":[],\"redacted\":[]}",
         "[{\"artifact_path\":\"log_reg_model\",\"flavors\":{\"python_function\":{\"predict_fn\":\"predict\",\"model_path\":\"model.pkl\",\"loader_module\":\"mlflow.sklearn\",\"env\":{\"conda\":\"conda.yaml\",\"virtualenv\":\"python_env.yaml\"},\"python_version\":\"3.9.5\"},\"sklearn\":{\"pickled_model\":\"model.pkl\",\"sklearn_version\":\"1.0.2\",\"serialization_format\":\"cloudpickle\",\"code\":null}},\"run_id\":\"1a0cd26ac6c6439c9b41c49b35341634\",\"model_uuid\":\"7f9b64432b4b45a69473b9353e7f8608\",\"model_size_bytes\":902,\"utc_time_created\":\"2024-01-07 19:34:28.057148\",\"mlflow_version\":\"2.9.2\",\"databricks_runtime\":\"12.2.x-scala2.12\"}]"
        ],
        [
         "2df7d4de5e224df3b882dbab227ec90c",
         "2625494308674263",
         "RUNNING",
         "dbfs:/databricks/mlflow-tracking/2625494308674263/2df7d4de5e224df3b882dbab227ec90c/artifacts",
         "2024-01-07T16:38:50.740+0000",
         null,
         null,
         null,
         null,
         "0107-161849-hsyjxg5p",
         null,
         "Hiba.KHEY@um6p.ma",
         "6894176970319549",
         "https://community.cloud.databricks.com",
         "/Users/Hiba.KHEY@um6p.ma/Untitled Notebook 2024-01-07 17:18:10",
         "/Users/Hiba.KHEY@um6p.ma/Untitled Notebook 2024-01-07 17:18:10",
         "crawling-elk-180",
         "2625494308674235",
         "NOTEBOOK",
         "{\"cluster_name\":\"My Cluster\",\"spark_version\":\"12.2.x-scala2.12\",\"node_type_id\":\"dev-tier-node\",\"driver_node_type_id\":\"dev-tier-node\",\"autotermination_minutes\":120,\"disk_spec\":{\"disk_count\":0},\"num_workers\":0}",
         "7241135956740175419_5276067649656334512_d327487be27f4c4d8b018e80966e7700",
         "https://community.cloud.databricks.com",
         "{\"installable\":[],\"redacted\":[]}",
         null
        ],
        [
         "f499adc0f2a94c3f956b12b70005f5cc",
         "2625494308674263",
         "FINISHED",
         "dbfs:/databricks/mlflow-tracking/2625494308674263/f499adc0f2a94c3f956b12b70005f5cc/artifacts",
         "2024-01-07T16:37:38.284+0000",
         "2024-01-07T16:37:44.316+0000",
         0.8534122528037835,
         0.9987382145736217,
         0.9989250829555545,
         "0107-161849-hsyjxg5p",
         "1704645464483",
         "Hiba.KHEY@um6p.ma",
         "6894176970319549",
         "https://community.cloud.databricks.com",
         "/Users/Hiba.KHEY@um6p.ma/Untitled Notebook 2024-01-07 17:18:10",
         "/Users/Hiba.KHEY@um6p.ma/Untitled Notebook 2024-01-07 17:18:10",
         "kindly-midge-739",
         "2625494308674235",
         "NOTEBOOK",
         "{\"cluster_name\":\"My Cluster\",\"spark_version\":\"12.2.x-scala2.12\",\"node_type_id\":\"dev-tier-node\",\"driver_node_type_id\":\"dev-tier-node\",\"autotermination_minutes\":120,\"disk_spec\":{\"disk_count\":0},\"num_workers\":0}",
         "7241135956740175419_8028629527399120645_dc80712a21774c3ab047c1da46f5955a",
         "https://community.cloud.databricks.com",
         "{\"installable\":[],\"redacted\":[]}",
         "[{\"artifact_path\":\"log_reg_model\",\"flavors\":{\"python_function\":{\"predict_fn\":\"predict\",\"model_path\":\"model.pkl\",\"loader_module\":\"mlflow.sklearn\",\"env\":{\"conda\":\"conda.yaml\",\"virtualenv\":\"python_env.yaml\"},\"python_version\":\"3.9.5\"},\"sklearn\":{\"pickled_model\":\"model.pkl\",\"sklearn_version\":\"1.0.2\",\"serialization_format\":\"cloudpickle\",\"code\":null}},\"run_id\":\"f499adc0f2a94c3f956b12b70005f5cc\",\"model_uuid\":\"af2baa8b86ad4ecda6f8692289ba1b3a\",\"model_size_bytes\":902,\"utc_time_created\":\"2024-01-07 16:37:40.358240\",\"mlflow_version\":\"2.9.2\",\"databricks_runtime\":\"12.2.x-scala2.12\"}]"
        ],
        [
         "94f3e42cb7744425bb16de84e8d8789b",
         "2625494308674263",
         "FAILED",
         "dbfs:/databricks/mlflow-tracking/2625494308674263/94f3e42cb7744425bb16de84e8d8789b/artifacts",
         "2024-01-07T16:36:40.648+0000",
         "2024-01-07T16:36:42.162+0000",
         0.8534122528037835,
         0.9987382145736217,
         0.9989250829555545,
         "0107-161849-hsyjxg5p",
         "1704645402305",
         "Hiba.KHEY@um6p.ma",
         "6894176970319549",
         "https://community.cloud.databricks.com",
         "/Users/Hiba.KHEY@um6p.ma/Untitled Notebook 2024-01-07 17:18:10",
         "/Users/Hiba.KHEY@um6p.ma/Untitled Notebook 2024-01-07 17:18:10",
         "wistful-penguin-221",
         "2625494308674235",
         "NOTEBOOK",
         "{\"cluster_name\":\"My Cluster\",\"spark_version\":\"12.2.x-scala2.12\",\"node_type_id\":\"dev-tier-node\",\"driver_node_type_id\":\"dev-tier-node\",\"autotermination_minutes\":120,\"disk_spec\":{\"disk_count\":0},\"num_workers\":0}",
         "7241135956740175419_8794737706791559011_dec7b550e25948b080f0e8eaffc5221c",
         "https://community.cloud.databricks.com",
         "{\"installable\":[],\"redacted\":[]}",
         null
        ]
       ],
       "datasetInfos": [],
       "dbfsResultPath": null,
       "isJsonSchema": true,
       "metadata": {},
       "overflow": false,
       "plotOptions": {
        "customPlotOptions": {},
        "displayType": "table",
        "pivotAggregation": null,
        "pivotColumns": null,
        "xColumns": null,
        "yColumns": null
       },
       "removedWidgets": [],
       "schema": [
        {
         "metadata": "{}",
         "name": "run_id",
         "type": "\"string\""
        },
        {
         "metadata": "{}",
         "name": "experiment_id",
         "type": "\"string\""
        },
        {
         "metadata": "{}",
         "name": "status",
         "type": "\"string\""
        },
        {
         "metadata": "{}",
         "name": "artifact_uri",
         "type": "\"string\""
        },
        {
         "metadata": "{}",
         "name": "start_time",
         "type": "\"timestamp\""
        },
        {
         "metadata": "{}",
         "name": "end_time",
         "type": "\"timestamp\""
        },
        {
         "metadata": "{}",
         "name": "metrics.auc_score",
         "type": "\"double\""
        },
        {
         "metadata": "{}",
         "name": "metrics.eval_acc",
         "type": "\"double\""
        },
        {
         "metadata": "{}",
         "name": "metrics.train_acc",
         "type": "\"double\""
        },
        {
         "metadata": "{}",
         "name": "tags.mlflow.databricks.cluster.id",
         "type": "\"string\""
        },
        {
         "metadata": "{}",
         "name": "tags.mlflow.databricks.notebookRevisionID",
         "type": "\"string\""
        },
        {
         "metadata": "{}",
         "name": "tags.mlflow.user",
         "type": "\"string\""
        },
        {
         "metadata": "{}",
         "name": "tags.mlflow.databricks.workspaceID",
         "type": "\"string\""
        },
        {
         "metadata": "{}",
         "name": "tags.mlflow.databricks.workspaceURL",
         "type": "\"string\""
        },
        {
         "metadata": "{}",
         "name": "tags.mlflow.databricks.notebookPath",
         "type": "\"string\""
        },
        {
         "metadata": "{}",
         "name": "tags.mlflow.source.name",
         "type": "\"string\""
        },
        {
         "metadata": "{}",
         "name": "tags.mlflow.runName",
         "type": "\"string\""
        },
        {
         "metadata": "{}",
         "name": "tags.mlflow.databricks.notebookID",
         "type": "\"string\""
        },
        {
         "metadata": "{}",
         "name": "tags.mlflow.source.type",
         "type": "\"string\""
        },
        {
         "metadata": "{}",
         "name": "tags.mlflow.databricks.cluster.info",
         "type": "\"string\""
        },
        {
         "metadata": "{}",
         "name": "tags.mlflow.databricks.notebook.commandID",
         "type": "\"string\""
        },
        {
         "metadata": "{}",
         "name": "tags.mlflow.databricks.webappURL",
         "type": "\"string\""
        },
        {
         "metadata": "{}",
         "name": "tags.mlflow.databricks.cluster.libraries",
         "type": "\"string\""
        },
        {
         "metadata": "{}",
         "name": "tags.mlflow.log-model.history",
         "type": "\"string\""
        }
       ],
       "type": "table"
      }
     },
     "output_type": "display_data"
    }
   ],
   "source": [
    "all_runs = mlflow.search_runs(max_results=10)  \n",
    "display(all_runs)"
   ]
  },
  {
   "cell_type": "code",
   "execution_count": null,
   "metadata": {
    "application/vnd.databricks.v1+cell": {
     "cellMetadata": {
      "byteLimit": 2048000,
      "rowLimit": 10000
     },
     "inputWidgets": {},
     "nuid": "e3312707-8bbb-4554-8957-2f5cad87334c",
     "showTitle": false,
     "title": ""
    }
   },
   "outputs": [
    {
     "name": "stdout",
     "output_type": "stream",
     "text": [
      "Train Accuracy: 100.000%\n",
      "Auc Score: 88.880%\n",
      "Eval Accuracy: 99.905%\n"
     ]
    },
    {
     "name": "stderr",
     "output_type": "stream",
     "text": [
      "/databricks/python/lib/python3.9/site-packages/sklearn/utils/deprecation.py:87: FutureWarning: Function plot_roc_curve is deprecated; Function :func:`plot_roc_curve` is deprecated in 1.0 and will be removed in 1.2. Use one of the class methods: :meth:`sklearn.metric.RocCurveDisplay.from_predictions` or :meth:`sklearn.metric.RocCurveDisplay.from_estimator`.\n",
      "  warnings.warn(msg, category=FutureWarning)\n"
     ]
    },
    {
     "data": {
      "image/png": "[encoded data removed]"
     },
     "metadata": {
      "application/vnd.databricks.v1+output": {
       "addedWidgets": {},
       "arguments": {},
       "data": "data:image/png;base64,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\n",
       "datasetInfos": [],
       "metadata": {},
       "removedWidgets": [],
       "type": "image"
      }
     },
     "output_type": "display_data"
    },
    {
     "name": "stderr",
     "output_type": "stream",
     "text": [
      "2024/01/07 19:55:53 WARNING mlflow.models.model: Model logged without a signature. Signatures will be required for upcoming model registry features as they validate model inputs and denote the expected schema of model outputs. Please visit https://www.mlflow.org/docs/2.9.2/models.html#set-signature-on-logged-model for instructions on setting a model signature on your logged model.\n"
     ]
    },
    {
     "name": "stdout",
     "output_type": "stream",
     "text": [
      "Model run:  afd52341be514acf896ff94709e1c02e\n"
     ]
    },
    {
     "data": {
      "image/png": "[encoded data removed]"
     },
     "metadata": {
      "application/vnd.databricks.v1+output": {
       "addedWidgets": {},
       "arguments": {},
       "data": "data:image/png;base64,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\n",
       "datasetInfos": [],
       "metadata": {},
       "removedWidgets": [],
       "type": "image"
      }
     },
     "output_type": "display_data"
    }
   ],
   "source": [
    "from sklearn.ensemble import RandomForestClassifier\n",
    "\n",
    "rf_model = RandomForestClassifier(random_state=2020)\n",
    "mlflow.set_experiment(\"/Users/Hiba.KHEY@um6p.ma/scikit_learn_experiment10\")\n",
    "\n",
    "with mlflow.start_run():\n",
    "    train(rf_model, x_train, y_train)\n",
    "    evaluate(rf_model, x_test, y_test)\n",
    "    mlflow.sklearn.log_model(rf_model, \"random_forest_model\")\n",
    "    print(\"Model run: \", mlflow.active_run().info.run_uuid)\n",
    "mlflow.end_run()\n"
   ]
  },
  {
   "cell_type": "code",
   "execution_count": null,
   "metadata": {
    "application/vnd.databricks.v1+cell": {
     "cellMetadata": {},
     "inputWidgets": {},
     "nuid": "208a8bb9-88e5-4356-9ac7-47ce735ddf20",
     "showTitle": false,
     "title": ""
    }
   },
   "outputs": [],
   "source": []
  }
 ],
 "metadata": {
  "application/vnd.databricks.v1+notebook": {
   "dashboards": [],
   "language": "python",
   "notebookMetadata": {
    "pythonIndentUnit": 4
   },
   "notebookName": "Untitled Notebook 2024-01-07 17:18:10",
   "widgets": {}
  },
  "language_info": {
   "name": "python"
  }
 },
 "nbformat": 4,
 "nbformat_minor": 0
}
